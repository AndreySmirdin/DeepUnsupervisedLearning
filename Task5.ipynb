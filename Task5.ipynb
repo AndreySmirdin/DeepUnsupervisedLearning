{
  "nbformat": 4,
  "nbformat_minor": 0,
  "metadata": {
    "colab": {
      "name": "Task5.ipynb",
      "provenance": [],
      "collapsed_sections": [],
      "machine_shape": "hm",
      "include_colab_link": true
    },
    "kernelspec": {
      "name": "python3",
      "display_name": "Python 3"
    },
    "accelerator": "GPU",
    "widgets": {
      "application/vnd.jupyter.widget-state+json": {
        "863c4d68778447e088e09749d1fd12de": {
          "model_module": "@jupyter-widgets/controls",
          "model_name": "HBoxModel",
          "state": {
            "_view_name": "HBoxView",
            "_dom_classes": [],
            "_model_name": "HBoxModel",
            "_view_module": "@jupyter-widgets/controls",
            "_model_module_version": "1.5.0",
            "_view_count": null,
            "_view_module_version": "1.5.0",
            "box_style": "",
            "layout": "IPY_MODEL_bb933e86f235401084921059c9b444a7",
            "_model_module": "@jupyter-widgets/controls",
            "children": [
              "IPY_MODEL_cb0d93936afd4a29bd428abf9e086c4d",
              "IPY_MODEL_0e2dc9102c424404b1e33cc365ff057e"
            ]
          }
        },
        "bb933e86f235401084921059c9b444a7": {
          "model_module": "@jupyter-widgets/base",
          "model_name": "LayoutModel",
          "state": {
            "_view_name": "LayoutView",
            "grid_template_rows": null,
            "right": null,
            "justify_content": null,
            "_view_module": "@jupyter-widgets/base",
            "overflow": null,
            "_model_module_version": "1.2.0",
            "_view_count": null,
            "flex_flow": null,
            "width": null,
            "min_width": null,
            "border": null,
            "align_items": null,
            "bottom": null,
            "_model_module": "@jupyter-widgets/base",
            "top": null,
            "grid_column": null,
            "overflow_y": null,
            "overflow_x": null,
            "grid_auto_flow": null,
            "grid_area": null,
            "grid_template_columns": null,
            "flex": null,
            "_model_name": "LayoutModel",
            "justify_items": null,
            "grid_row": null,
            "max_height": null,
            "align_content": null,
            "visibility": null,
            "align_self": null,
            "height": null,
            "min_height": null,
            "padding": null,
            "grid_auto_rows": null,
            "grid_gap": null,
            "max_width": null,
            "order": null,
            "_view_module_version": "1.2.0",
            "grid_template_areas": null,
            "object_position": null,
            "object_fit": null,
            "grid_auto_columns": null,
            "margin": null,
            "display": null,
            "left": null
          }
        },
        "cb0d93936afd4a29bd428abf9e086c4d": {
          "model_module": "@jupyter-widgets/controls",
          "model_name": "IntProgressModel",
          "state": {
            "_view_name": "ProgressView",
            "style": "IPY_MODEL_d2c10e0e9d8046ec9969a4d72b790625",
            "_dom_classes": [],
            "description": "",
            "_model_name": "IntProgressModel",
            "bar_style": "success",
            "max": 1,
            "_view_module": "@jupyter-widgets/controls",
            "_model_module_version": "1.5.0",
            "value": 1,
            "_view_count": null,
            "_view_module_version": "1.5.0",
            "orientation": "horizontal",
            "min": 0,
            "description_tooltip": null,
            "_model_module": "@jupyter-widgets/controls",
            "layout": "IPY_MODEL_f353c5f3a4f947018b87e5287cb4413e"
          }
        },
        "0e2dc9102c424404b1e33cc365ff057e": {
          "model_module": "@jupyter-widgets/controls",
          "model_name": "HTMLModel",
          "state": {
            "_view_name": "HTMLView",
            "style": "IPY_MODEL_d8bb56b4af9e4d48893de3e687cfc399",
            "_dom_classes": [],
            "description": "",
            "_model_name": "HTMLModel",
            "placeholder": "​",
            "_view_module": "@jupyter-widgets/controls",
            "_model_module_version": "1.5.0",
            "value": "0it [00:00, ?it/s]",
            "_view_count": null,
            "_view_module_version": "1.5.0",
            "description_tooltip": null,
            "_model_module": "@jupyter-widgets/controls",
            "layout": "IPY_MODEL_29cd82d9ced0409c92fba0d15783b4da"
          }
        },
        "d2c10e0e9d8046ec9969a4d72b790625": {
          "model_module": "@jupyter-widgets/controls",
          "model_name": "ProgressStyleModel",
          "state": {
            "_view_name": "StyleView",
            "_model_name": "ProgressStyleModel",
            "description_width": "",
            "_view_module": "@jupyter-widgets/base",
            "_model_module_version": "1.5.0",
            "_view_count": null,
            "_view_module_version": "1.2.0",
            "bar_color": null,
            "_model_module": "@jupyter-widgets/controls"
          }
        },
        "f353c5f3a4f947018b87e5287cb4413e": {
          "model_module": "@jupyter-widgets/base",
          "model_name": "LayoutModel",
          "state": {
            "_view_name": "LayoutView",
            "grid_template_rows": null,
            "right": null,
            "justify_content": null,
            "_view_module": "@jupyter-widgets/base",
            "overflow": null,
            "_model_module_version": "1.2.0",
            "_view_count": null,
            "flex_flow": null,
            "width": null,
            "min_width": null,
            "border": null,
            "align_items": null,
            "bottom": null,
            "_model_module": "@jupyter-widgets/base",
            "top": null,
            "grid_column": null,
            "overflow_y": null,
            "overflow_x": null,
            "grid_auto_flow": null,
            "grid_area": null,
            "grid_template_columns": null,
            "flex": null,
            "_model_name": "LayoutModel",
            "justify_items": null,
            "grid_row": null,
            "max_height": null,
            "align_content": null,
            "visibility": null,
            "align_self": null,
            "height": null,
            "min_height": null,
            "padding": null,
            "grid_auto_rows": null,
            "grid_gap": null,
            "max_width": null,
            "order": null,
            "_view_module_version": "1.2.0",
            "grid_template_areas": null,
            "object_position": null,
            "object_fit": null,
            "grid_auto_columns": null,
            "margin": null,
            "display": null,
            "left": null
          }
        },
        "d8bb56b4af9e4d48893de3e687cfc399": {
          "model_module": "@jupyter-widgets/controls",
          "model_name": "DescriptionStyleModel",
          "state": {
            "_view_name": "StyleView",
            "_model_name": "DescriptionStyleModel",
            "description_width": "",
            "_view_module": "@jupyter-widgets/base",
            "_model_module_version": "1.5.0",
            "_view_count": null,
            "_view_module_version": "1.2.0",
            "_model_module": "@jupyter-widgets/controls"
          }
        },
        "29cd82d9ced0409c92fba0d15783b4da": {
          "model_module": "@jupyter-widgets/base",
          "model_name": "LayoutModel",
          "state": {
            "_view_name": "LayoutView",
            "grid_template_rows": null,
            "right": null,
            "justify_content": null,
            "_view_module": "@jupyter-widgets/base",
            "overflow": null,
            "_model_module_version": "1.2.0",
            "_view_count": null,
            "flex_flow": null,
            "width": null,
            "min_width": null,
            "border": null,
            "align_items": null,
            "bottom": null,
            "_model_module": "@jupyter-widgets/base",
            "top": null,
            "grid_column": null,
            "overflow_y": null,
            "overflow_x": null,
            "grid_auto_flow": null,
            "grid_area": null,
            "grid_template_columns": null,
            "flex": null,
            "_model_name": "LayoutModel",
            "justify_items": null,
            "grid_row": null,
            "max_height": null,
            "align_content": null,
            "visibility": null,
            "align_self": null,
            "height": null,
            "min_height": null,
            "padding": null,
            "grid_auto_rows": null,
            "grid_gap": null,
            "max_width": null,
            "order": null,
            "_view_module_version": "1.2.0",
            "grid_template_areas": null,
            "object_position": null,
            "object_fit": null,
            "grid_auto_columns": null,
            "margin": null,
            "display": null,
            "left": null
          }
        }
      }
    }
  },
  "cells": [
    {
      "cell_type": "markdown",
      "metadata": {
        "id": "view-in-github",
        "colab_type": "text"
      },
      "source": [
        "<a href=\"https://colab.research.google.com/github/AndreySmirdin/DeepUnsupervisedLearning/blob/hw_2/Task5.ipynb\" target=\"_parent\"><img src=\"https://colab.research.google.com/assets/colab-badge.svg\" alt=\"Open In Colab\"/></a>"
      ]
    },
    {
      "cell_type": "code",
      "metadata": {
        "id": "nkBD3Ct2w_F8",
        "colab_type": "code",
        "outputId": "ef11ce4b-d92e-4cf2-ef81-010b3104541b",
        "colab": {
          "base_uri": "https://localhost:8080/",
          "height": 34
        }
      },
      "source": [
        "import datetime\n",
        "import pickle\n",
        "import os\n",
        "import numpy as np\n",
        "import torch \n",
        "import torch.nn as nn\n",
        "import torch.nn.functional as F\n",
        "import matplotlib.pyplot as plt\n",
        "import torchvision\n",
        "from sklearn.model_selection import train_test_split\n",
        "from scipy.stats import norm\n",
        "from tqdm.auto import tqdm\n",
        "from google.colab import drive\n",
        "\n",
        "device = torch.device('cuda:0' if torch.cuda.is_available() else 'cpu')\n",
        "print(device)"
      ],
      "execution_count": 1,
      "outputs": [
        {
          "output_type": "stream",
          "text": [
            "cuda:0\n"
          ],
          "name": "stdout"
        }
      ]
    },
    {
      "cell_type": "code",
      "metadata": {
        "id": "wH-445bJcjMS",
        "colab_type": "code",
        "outputId": "995b6890-b405-40c3-d6e4-c246eee61669",
        "colab": {
          "base_uri": "https://localhost:8080/",
          "height": 122
        }
      },
      "source": [
        "drive.mount('/content/drive')\n",
        "\n",
        "mnist_path = '/content/drive/My Drive/Colab Notebooks/hw2_q2.pkl'\n",
        "\n",
        "with open(mnist_path, 'rb') as f:\n",
        "    dataset = pickle.load(f)\n",
        "\n",
        "train_data = dataset['train']\n",
        "test_data = dataset['test']"
      ],
      "execution_count": 2,
      "outputs": [
        {
          "output_type": "stream",
          "text": [
            "Go to this URL in a browser: https://accounts.google.com/o/oauth2/auth?client_id=947318989803-6bn6qk8qdgf4n4g3pfee6491hc0brc4i.apps.googleusercontent.com&redirect_uri=urn%3aietf%3awg%3aoauth%3a2.0%3aoob&response_type=code&scope=email%20https%3a%2f%2fwww.googleapis.com%2fauth%2fdocs.test%20https%3a%2f%2fwww.googleapis.com%2fauth%2fdrive%20https%3a%2f%2fwww.googleapis.com%2fauth%2fdrive.photos.readonly%20https%3a%2f%2fwww.googleapis.com%2fauth%2fpeopleapi.readonly\n",
            "\n",
            "Enter your authorization code:\n",
            "··········\n",
            "Mounted at /content/drive\n"
          ],
          "name": "stdout"
        }
      ]
    },
    {
      "cell_type": "code",
      "metadata": {
        "id": "1dcx7q2xdMCG",
        "colab_type": "code",
        "outputId": "ea85b10c-34bc-4737-d74c-ca11fb81f44d",
        "colab": {
          "base_uri": "https://localhost:8080/",
          "height": 266
        }
      },
      "source": [
        "plt.imshow(train_data[1] * 50);"
      ],
      "execution_count": 3,
      "outputs": [
        {
          "output_type": "display_data",
          "data": {
            "image/png": "[encoded data removed]",
            "text/plain": [
              "<Figure size 432x288 with 1 Axes>"
            ]
          },
          "metadata": {
            "tags": []
          }
        }
      ]
    },
    {
      "cell_type": "code",
      "metadata": {
        "id": "EtiIMt11dXVy",
        "colab_type": "code",
        "colab": {}
      },
      "source": [
        "batch_size = 64\n",
        "num_epochs = 20\n",
        "lr = 0.0001\n",
        "\n",
        "def process_data(data):\n",
        "    return torch.tensor(data.transpose(0, 3, 1, 2))\n",
        "\n",
        "train_loader = torch.utils.data.DataLoader(process_data(train_data), batch_size=batch_size, shuffle=True)\n",
        "test_loader = torch.utils.data.DataLoader(process_data(test_data), batch_size=batch_size, shuffle=False) "
      ],
      "execution_count": 0,
      "outputs": []
    },
    {
      "cell_type": "code",
      "metadata": {
        "id": "R58hxpVHxLJx",
        "colab_type": "code",
        "colab": {}
      },
      "source": [
        "class ResBlock(nn.Module):\n",
        "    def __init__(self, n_filters):\n",
        "        super().__init__()\n",
        "\n",
        "        self.n_filters = n_filters\n",
        "        self.model = nn.Sequential(\n",
        "            nn.Conv2d(self.n_filters, self.n_filters, 1),\n",
        "            nn.ReLU(),\n",
        "            nn.Conv2d(self.n_filters, self.n_filters, 3, padding=1),\n",
        "            nn.ReLU(),\n",
        "            nn.Conv2d(self.n_filters, self.n_filters, 1),\n",
        "        )\n",
        "\n",
        "    def forward(self, x):\n",
        "        return x + self.model(x)\n",
        "\n",
        "class AffineCoupling(nn.Module):\n",
        "    def __init__(self, n_in, n_filters=256, n_blocks=8):\n",
        "        super().__init__()\n",
        "\n",
        "        self.n_filters = n_filters\n",
        "        self.n_blocks = n_blocks\n",
        "\n",
        "        self.n_in = n_in\n",
        "        self.n_out = self.n_in * 2\n",
        "\n",
        "        self.first_conv = nn.Conv2d(self.n_in, self.n_filters, 3, padding=1)\n",
        "        self.layers = nn.Sequential(*[ResBlock(self.n_filters) for _ in range(n_blocks)])\n",
        "        self.relu = nn.ReLU()\n",
        "        self.final_conv = nn.Conv2d(self.n_filters, self.n_out, 3, padding=1)\n",
        "\n",
        "\n",
        "    def forward(self, x):\n",
        "        x1, x2 = x\n",
        "        y1 = x1\n",
        "        s, t = torch.chunk(self.simple_resnet(x1), 2, dim=1)\n",
        "        # y2 = torch.exp(log_s) * (y1 + t)\n",
        "        y2 = torch.exp(s) * x2 + t\n",
        "        return (y1, y2), s.sum(dim=(1, 2, 3)).abs()\n",
        "\n",
        "    def reverse(self, z):\n",
        "        z1, z2 = z\n",
        "        x1 = z1\n",
        "        s, t = torch.chunk(self.simple_resnet(z1), 2, dim=1)\n",
        "        x2 = z2 * torch.exp(-s) - t\n",
        "        return (x1, x2)\n",
        "\n",
        "    def simple_resnet(self, x):\n",
        "        z = self.first_conv(x)\n",
        "        z = self.layers(z)\n",
        "        z = self.relu(z)\n",
        "        z = self.final_conv(z)\n",
        "        return z\n",
        "\n",
        "class RealNvp(nn.Module):\n",
        "    def __init__(self, n_in=3):\n",
        "        super().__init__()\n",
        "\n",
        "        self.coupling1 = nn.ModuleList([AffineCoupling(n_in) for _ in range(4)])\n",
        "        self.coupling2 = nn.ModuleList([AffineCoupling(n_in * 2) for _ in range(3)])\n",
        "        self.coupling3 = nn.ModuleList([AffineCoupling(n_in * 4) for _ in range(3)])\n",
        "        self.coupling4 = nn.ModuleList([AffineCoupling(n_in * 8) for _ in range(3)])\n",
        "        self.coupling5 = nn.ModuleList([AffineCoupling(n_in * 16) for _ in range(3)])\n",
        "\n",
        "    def step(self, x1, x2, layers):\n",
        "        N = x1.shape[0]\n",
        "        total_det = torch.zeros(N).to(device)\n",
        "        for layer in layers:\n",
        "            (x1, x2), det = layer((x1, x2))\n",
        "            x1, x2 = x2, x1\n",
        "            total_det += det\n",
        "\n",
        "        return (x1, x2), total_det\n",
        "\n",
        "    def reverse_step(self, x1, x2, layers):\n",
        "        for layer in reversed(layers):\n",
        "            x1, x2 = x2, x1 # is it correct?????\n",
        "            x1, x2 = layer.reverse((x1, x2))\n",
        "        return x1, x2\n",
        "\n",
        "    def checkboard_step(self, x, layers):\n",
        "        x1, x2 = self.checkboard_split(x)\n",
        "        \n",
        "        (x1, x2), det = self.step(x1, x2, layers)\n",
        "\n",
        "        x = self.inverse_checkboard_split(x1, x2)\n",
        "        return x, det\n",
        "\n",
        "    def reverse_checkboard_step(self, x, layers):\n",
        "        x1, x2 = self.checkboard_split(x)\n",
        "        (x1, x2) = self.reverse_step(x1, x2, layers)\n",
        "        x = self.inverse_checkboard_split(x1, x2)\n",
        "        return x\n",
        "\n",
        "    def channel_step(self, x, layers):\n",
        "        x = self.squeeze(x)\n",
        "        x1, x2 = self.channel_split(x)\n",
        "        \n",
        "        (x1, x2), det = self.step(x1, x2, layers)\n",
        "\n",
        "        x = self.inverse_channel_split(x1, x2)\n",
        "        return x, det\n",
        "\n",
        "    def reverse_channel_step(self, x, layers):\n",
        "        x1, x2 = self.channel_split(x)\n",
        "        x1, x2 = self.reverse_step(x1, x2, layers)\n",
        "        x = self.inverse_channel_split(x1, x2)\n",
        "        x = self.reverse_squeeze(x)\n",
        "        return x\n",
        "\n",
        "    def forward(self, x):\n",
        "        x = x.float() / 3\n",
        "        x, det1 = self.checkboard_step(x, self.coupling1)\n",
        "        x, det2 = self.channel_step(x, self.coupling2)\n",
        "        x, det3 = self.checkboard_step(x, self.coupling3)\n",
        "        x, det4 = self.channel_step(x, self.coupling4)\n",
        "        x, det5 = self.checkboard_step(x, self.coupling5)\n",
        "        return x, sum([det1, det2, det3, det4, det5])\n",
        "\n",
        "    def reverse(self, z):\n",
        "        z = self.reverse_checkboard_step(z, self.coupling5)\n",
        "        z = self.reverse_channel_step(z, self.coupling4)\n",
        "        z = self.reverse_checkboard_step(z, self.coupling3)\n",
        "        z = self.reverse_channel_step(z, self.coupling2)\n",
        "        z = self.reverse_checkboard_step(z, self.coupling1)\n",
        "        return z\n",
        "\n",
        "    def checkboard_split(self, x):\n",
        "        N, C, H, W = x.shape\n",
        "        mask = torch.from_numpy(np.indices((H, W)).sum(axis=0) % 2 == 0).repeat(N, C, 1, 1)\n",
        "        return x[mask].reshape(N, C, H, W // 2), x[~mask].reshape(N, C, H, W // 2)\n",
        "    \n",
        "    def inverse_checkboard_split(self, x1, x2):\n",
        "        N, C, H, W = x1.shape\n",
        "        mask = torch.from_numpy(np.indices((H, W * 2)).sum(axis=0) % 2 == 0)\n",
        "        res = torch.zeros(N, C, H, W * 2).to(device)\n",
        "        res[:, :, mask] = x1.reshape(N, C, -1)\n",
        "        res[:, :, ~mask] = x2.reshape(N, C, -1)\n",
        "        return res\n",
        "\n",
        "    def squeeze(self, x):\n",
        "        N, C, H, W = x.shape\n",
        "        mask1 = torch.tensor([True, False, False, False]).reshape(2, 2).repeat(N, C, H // 2, W // 2)\n",
        "        mask2 = torch.tensor([False, True, False, False]).reshape(2, 2).repeat(N, C, H // 2, W // 2)\n",
        "        mask3 = torch.tensor([False, False, True, False]).reshape(2, 2).repeat(N, C, H // 2, W // 2)\n",
        "        mask4 = torch.tensor([False, False, False, True]).reshape(2, 2).repeat(N, C, H // 2, W // 2)\n",
        "\n",
        "        x1 = x[mask1].reshape(N, C, H // 2, W // 2)\n",
        "        x2 = x[mask2].reshape(N, C, H // 2, W // 2)\n",
        "        x3 = x[mask3].reshape(N, C, H // 2, W // 2)\n",
        "        x4 = x[mask4].reshape(N, C, H // 2, W // 2)\n",
        "        return torch.cat([x1, x2, x3, x4], dim=1)\n",
        "\n",
        "    def reverse_squeeze(self, x):\n",
        "        N, C, H, W = x.shape\n",
        "        mask1 = torch.tensor([True, False, False, False]).reshape(2, 2).repeat(N, C // 4, H, W)\n",
        "        mask2 = torch.tensor([False, True, False, False]).reshape(2, 2).repeat(N, C // 4, H, W)\n",
        "        mask3 = torch.tensor([False, False, True, False]).reshape(2, 2).repeat(N, C // 4, H, W)\n",
        "        mask4 = torch.tensor([False, False, False, True]).reshape(2, 2).repeat(N, C // 4, H, W)\n",
        "\n",
        "        res = torch.zeros(N, C // 4, H * 2, W * 2).to(device)\n",
        "        x1, x2, x3, x4 = torch.chunk(x, 4, dim=1)\n",
        "        res[mask1] = x1.reshape(-1)\n",
        "        res[mask2] = x2.reshape(-1)\n",
        "        res[mask3] = x3.reshape(-1)\n",
        "        res[mask4] = x4.reshape(-1)\n",
        "        return res\n",
        "\n",
        "    def channel_split(self, x):\n",
        "        return torch.chunk(x, 2, dim=1)\n",
        "    \n",
        "    def inverse_channel_split(self, x1, x2):\n",
        "        return torch.cat([x1, x2], dim=1)\n",
        "\n",
        "normal = torch.distributions.normal.Normal(torch.tensor(0.), torch.tensor(1.))\n",
        "def get_loss(x, det):\n",
        "    probs = normal.log_prob(x).sum(dim=(1, 2, 3))\n",
        "    return (-probs + det).mean()\n",
        "\n",
        "def sample(model, n=10):\n",
        "    x = model.reverse(normal.sample((n, 48, 8, 8)).to(device))\n",
        "    return x"
      ],
      "execution_count": 0,
      "outputs": []
    },
    {
      "cell_type": "code",
      "metadata": {
        "id": "YLSEvmlh6tTR",
        "colab_type": "code",
        "outputId": "279fc37e-da65-4a9a-d68f-897e4709e24b",
        "colab": {
          "base_uri": "https://localhost:8080/",
          "height": 34
        }
      },
      "source": [
        "# Testing corectness\n",
        "N, C, W, H = 1, 3, 32, 32\n",
        "model = RealNvp().to(device)\n",
        "x = torch.rand(N * C * W * H).reshape(N, C, W, H).float().to(device)\n",
        "z, _ = model(x)\n",
        "x_ = model.reverse(z)\n",
        "print((x - x_ * 3).mean())"
      ],
      "execution_count": 6,
      "outputs": [
        {
          "output_type": "stream",
          "text": [
            "tensor(0.0096, device='cuda:0', grad_fn=<MeanBackward0>)\n"
          ],
          "name": "stdout"
        }
      ]
    },
    {
      "cell_type": "code",
      "metadata": {
        "id": "souN2zrU72tA",
        "colab_type": "code",
        "colab": {}
      },
      "source": [
        "path = '/content/drive/My Drive/Colab Notebooks/'\n",
        "state_path = os.path.join(path, 'state.pkl')\n",
        "\n",
        "def load_model(model, num):\n",
        "    model.load_state_dict(torch.load(os.path.join(path, f'celebs{num}.data')))\n",
        "    model.eval()\n",
        "    return model\n",
        "               \n",
        "\n",
        "def train(model, optim, train_loader, test_loader, num_epochs, continue_train=True):\n",
        "    if continue_train and os.path.exists(state_path):\n",
        "        with open(state_path, 'rb') as f:\n",
        "            state_dict = pickle.load(f)\n",
        "        print(state_dict)\n",
        "        losses = state_dict['loss']\n",
        "        val_losses = state_dict['val_losses']\n",
        "        start = state_dict['epoch']\n",
        "        model = load_model(model, start)\n",
        "        start += 1\n",
        "        \n",
        "    else:\n",
        "        losses, val_losses = [], []\n",
        "        start = 0\n",
        "\n",
        "    print(f\"Resumed training after {start} epochs\")\n",
        "\n",
        "    for epoch in tqdm(range(start, num_epochs)):\n",
        "        loss, val_loss = 0, 0\n",
        "        for batch in tqdm(train_loader):\n",
        "            batch = batch.to(device)\n",
        "            optim.zero_grad()\n",
        "            z, det = model(batch)\n",
        "            cur_loss = get_loss(z, det)\n",
        "            loss += cur_loss.item()\n",
        "            cur_loss.backward()\n",
        "            optim.step()\n",
        "        \n",
        "        with torch.no_grad():\n",
        "            for batch in test_loader:\n",
        "                batch = batch.to(device)\n",
        "                z, det = model(batch)\n",
        "                val_loss += get_loss(z, det).item()\n",
        "                \n",
        "        loss /= len(train_loader)\n",
        "        val_loss /= len(test_loader)\n",
        "        losses.append(loss)\n",
        "        val_losses.append(val_loss)\n",
        "\n",
        "        print(f'After epoch {epoch} train loss is {loss} valiidation loss is {val_loss}')\n",
        "\n",
        "        with open(state_path, 'wb') as f:\n",
        "            pickle.dump({\n",
        "                'loss': losses,\n",
        "                'val_losses': val_losses,\n",
        "                'epoch': epoch\n",
        "            }, f)\n",
        "        torch.save(model.state_dict(), os.path.join(path, f'celebs{epoch}.data'))\n",
        "    \n",
        "    return losses, val_losses"
      ],
      "execution_count": 0,
      "outputs": []
    },
    {
      "cell_type": "code",
      "metadata": {
        "id": "PnykM-FzeZL4",
        "colab_type": "code",
        "outputId": "516e5cef-5f3d-4e35-81ec-a030a400e7a4",
        "colab": {
          "base_uri": "https://localhost:8080/",
          "height": 120,
          "referenced_widgets": [
            "863c4d68778447e088e09749d1fd12de",
            "bb933e86f235401084921059c9b444a7",
            "cb0d93936afd4a29bd428abf9e086c4d",
            "0e2dc9102c424404b1e33cc365ff057e",
            "d2c10e0e9d8046ec9969a4d72b790625",
            "f353c5f3a4f947018b87e5287cb4413e",
            "d8bb56b4af9e4d48893de3e687cfc399",
            "29cd82d9ced0409c92fba0d15783b4da"
          ]
        }
      },
      "source": [
        "torch.cuda.empty_cache()\n",
        "model = RealNvp().to(device)\n",
        "optimizer = torch.optim.Adam(model.parameters(), lr=lr)\n",
        "train_losses, val_losses = train(model, optimizer, train_loader, test_loader, num_epochs)"
      ],
      "execution_count": 10,
      "outputs": [
        {
          "output_type": "stream",
          "text": [
            "{'loss': [2931.4847689010085, 2873.206784769369, 2863.391126541284, 2890.719342021516, 2858.202859019319, 2851.159923809405, 2848.6627045165237, 2845.778830433806, 2843.8187423559802, 2842.16610922524, 2843.108619178065, 2840.9658780326477, 2837.52340239991, 2835.1918282310803, 2833.3030736758687, 2831.6908953486923, 2830.6797772002296, 2829.486028604233, 2828.7768227086663, 2828.317896833816], 'val_losses': [2930, 2875, 2863, 2863.7165960864486, 2854.971111547167, 2850.153865635952, 2846.837945385514, 2844.3365649642233, 2843.438777745327, 2843.1419734776578, 2839.9205858462324, 2838.0539162894274, 2836.7917092581774, 2834.272572740216, 2832.3734142267817, 2831.8606344918226, 2829.251763744889, 2828.5709034572137, 2828.564884364048, 2828.6316853460867], 'epoch': 19}\n",
            "Resumed training after 20 epochs\n"
          ],
          "name": "stdout"
        },
        {
          "output_type": "display_data",
          "data": {
            "application/vnd.jupyter.widget-view+json": {
              "model_id": "863c4d68778447e088e09749d1fd12de",
              "version_minor": 0,
              "version_major": 2
            },
            "text/plain": [
              "HBox(children=(IntProgress(value=1, bar_style='info', max=1), HTML(value='')))"
            ]
          },
          "metadata": {
            "tags": []
          }
        },
        {
          "output_type": "stream",
          "text": [
            "\n"
          ],
          "name": "stdout"
        }
      ]
    },
    {
      "cell_type": "code",
      "metadata": {
        "id": "BF3NIX6whSwK",
        "colab_type": "code",
        "outputId": "af2df36a-3dcd-4c46-c81a-8571471e2558",
        "colab": {
          "base_uri": "https://localhost:8080/",
          "height": 265
        }
      },
      "source": [
        "with open(state_path, 'rb') as f:\n",
        "    state_dict = pickle.load(f)\n",
        "\n",
        "plt.plot(np.arange(len(state_dict['val_losses'])), state_dict['val_losses'])\n",
        "plt.plot(np.arange(len(state_dict['loss'])), state_dict['loss'])\n",
        "plt.legend(('validation','train'));"
      ],
      "execution_count": 8,
      "outputs": [
        {
          "output_type": "display_data",
          "data": {
            "image/png": "[encoded data removed]",
            "text/plain": [
              "<Figure size 432x288 with 1 Axes>"
            ]
          },
          "metadata": {
            "tags": []
          }
        }
      ]
    },
    {
      "cell_type": "code",
      "metadata": {
        "id": "VaxBffbhkTPe",
        "colab_type": "code",
        "colab": {
          "base_uri": "https://localhost:8080/",
          "height": 520
        },
        "outputId": "3c4aa9cb-4619-43a8-d590-56b95337a3f3"
      },
      "source": [
        "def imshow(img):\n",
        "    npimg = img.cpu().detach().numpy()\n",
        "    plt.figure(figsize=[20, 20])\n",
        "    plt.imshow(np.transpose(npimg, (1, 2, 0)))\n",
        "    plt.show()\n",
        "\n",
        "celebs = RealNvp().to(device)\n",
        "celebs = load_model(celebs, 8)\n",
        "\n",
        "grid = torchvision.utils.make_grid(sample(celebs), nrow=5)\n",
        "imshow(grid)"
      ],
      "execution_count": 9,
      "outputs": [
        {
          "output_type": "stream",
          "text": [
            "Clipping input data to the valid range for imshow with RGB data ([0..1] for floats or [0..255] for integers).\n"
          ],
          "name": "stderr"
        },
        {
          "output_type": "display_data",
          "data": {
            "image/png": "[encoded data removed]",
            "text/plain": [
              "<Figure size 1440x1440 with 1 Axes>"
            ]
          },
          "metadata": {
            "tags": []
          }
        }
      ]
    },
    {
      "cell_type": "code",
      "metadata": {
        "id": "KpdKW7ZEQWy7",
        "colab_type": "code",
        "colab": {}
      },
      "source": [
        ""
      ],
      "execution_count": 0,
      "outputs": []
    },
    {
      "cell_type": "code",
      "metadata": {
        "id": "S-IIKqKoQo0O",
        "colab_type": "code",
        "colab": {}
      },
      "source": [
        ""
      ],
      "execution_count": 0,
      "outputs": []
    },
    {
      "cell_type": "code",
      "metadata": {
        "id": "JaWR92CO4nAY",
        "colab_type": "code",
        "colab": {}
      },
      "source": [
        ""
      ],
      "execution_count": 0,
      "outputs": []
    },
    {
      "cell_type": "code",
      "metadata": {
        "id": "fAu1jx2H4tTo",
        "colab_type": "code",
        "colab": {}
      },
      "source": [
        "\n"
      ],
      "execution_count": 0,
      "outputs": []
    },
    {
      "cell_type": "code",
      "metadata": {
        "id": "oQYH1Mzv5EsS",
        "colab_type": "code",
        "colab": {}
      },
      "source": [
        ""
      ],
      "execution_count": 0,
      "outputs": []
    }
  ]
}