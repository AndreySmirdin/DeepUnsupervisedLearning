{
  "nbformat": 4,
  "nbformat_minor": 0,
  "metadata": {
    "colab": {
      "name": "Task6.ipynb",
      "provenance": [],
      "include_colab_link": true
    },
    "kernelspec": {
      "name": "python3",
      "display_name": "Python 3"
    },
    "widgets": {
      "application/vnd.jupyter.widget-state+json": {
        "204ac4455a474ec5a019931576c3f022": {
          "model_module": "@jupyter-widgets/controls",
          "model_name": "HBoxModel",
          "state": {
            "_view_name": "HBoxView",
            "_dom_classes": [],
            "_model_name": "HBoxModel",
            "_view_module": "@jupyter-widgets/controls",
            "_model_module_version": "1.5.0",
            "_view_count": null,
            "_view_module_version": "1.5.0",
            "box_style": "",
            "layout": "IPY_MODEL_23619615402041fc908cbb73a28dcaa7",
            "_model_module": "@jupyter-widgets/controls",
            "children": [
              "IPY_MODEL_4f2c93fc01f24a8483a2939cb8903d64",
              "IPY_MODEL_62a690486465479c96399909d84fc98e"
            ]
          }
        },
        "23619615402041fc908cbb73a28dcaa7": {
          "model_module": "@jupyter-widgets/base",
          "model_name": "LayoutModel",
          "state": {
            "_view_name": "LayoutView",
            "grid_template_rows": null,
            "right": null,
            "justify_content": null,
            "_view_module": "@jupyter-widgets/base",
            "overflow": null,
            "_model_module_version": "1.2.0",
            "_view_count": null,
            "flex_flow": null,
            "width": null,
            "min_width": null,
            "border": null,
            "align_items": null,
            "bottom": null,
            "_model_module": "@jupyter-widgets/base",
            "top": null,
            "grid_column": null,
            "overflow_y": null,
            "overflow_x": null,
            "grid_auto_flow": null,
            "grid_area": null,
            "grid_template_columns": null,
            "flex": null,
            "_model_name": "LayoutModel",
            "justify_items": null,
            "grid_row": null,
            "max_height": null,
            "align_content": null,
            "visibility": null,
            "align_self": null,
            "height": null,
            "min_height": null,
            "padding": null,
            "grid_auto_rows": null,
            "grid_gap": null,
            "max_width": null,
            "order": null,
            "_view_module_version": "1.2.0",
            "grid_template_areas": null,
            "object_position": null,
            "object_fit": null,
            "grid_auto_columns": null,
            "margin": null,
            "display": null,
            "left": null
          }
        },
        "4f2c93fc01f24a8483a2939cb8903d64": {
          "model_module": "@jupyter-widgets/controls",
          "model_name": "IntProgressModel",
          "state": {
            "_view_name": "ProgressView",
            "style": "IPY_MODEL_71d520f8be3c4962955c975d1a0e4fd1",
            "_dom_classes": [],
            "description": "",
            "_model_name": "IntProgressModel",
            "bar_style": "success",
            "max": 10,
            "_view_module": "@jupyter-widgets/controls",
            "_model_module_version": "1.5.0",
            "value": 10,
            "_view_count": null,
            "_view_module_version": "1.5.0",
            "orientation": "horizontal",
            "min": 0,
            "description_tooltip": null,
            "_model_module": "@jupyter-widgets/controls",
            "layout": "IPY_MODEL_622532110e92417b833381ec7f6d63f7"
          }
        },
        "62a690486465479c96399909d84fc98e": {
          "model_module": "@jupyter-widgets/controls",
          "model_name": "HTMLModel",
          "state": {
            "_view_name": "HTMLView",
            "style": "IPY_MODEL_3d269d6bcdb346f094609d8d9e74bc5a",
            "_dom_classes": [],
            "description": "",
            "_model_name": "HTMLModel",
            "placeholder": "​",
            "_view_module": "@jupyter-widgets/controls",
            "_model_module_version": "1.5.0",
            "value": "100% 10/10 [00:12&lt;00:00,  1.23s/it]",
            "_view_count": null,
            "_view_module_version": "1.5.0",
            "description_tooltip": null,
            "_model_module": "@jupyter-widgets/controls",
            "layout": "IPY_MODEL_5617b05db7f748d8b31b69fdc26b31c8"
          }
        },
        "71d520f8be3c4962955c975d1a0e4fd1": {
          "model_module": "@jupyter-widgets/controls",
          "model_name": "ProgressStyleModel",
          "state": {
            "_view_name": "StyleView",
            "_model_name": "ProgressStyleModel",
            "description_width": "",
            "_view_module": "@jupyter-widgets/base",
            "_model_module_version": "1.5.0",
            "_view_count": null,
            "_view_module_version": "1.2.0",
            "bar_color": null,
            "_model_module": "@jupyter-widgets/controls"
          }
        },
        "622532110e92417b833381ec7f6d63f7": {
          "model_module": "@jupyter-widgets/base",
          "model_name": "LayoutModel",
          "state": {
            "_view_name": "LayoutView",
            "grid_template_rows": null,
            "right": null,
            "justify_content": null,
            "_view_module": "@jupyter-widgets/base",
            "overflow": null,
            "_model_module_version": "1.2.0",
            "_view_count": null,
            "flex_flow": null,
            "width": null,
            "min_width": null,
            "border": null,
            "align_items": null,
            "bottom": null,
            "_model_module": "@jupyter-widgets/base",
            "top": null,
            "grid_column": null,
            "overflow_y": null,
            "overflow_x": null,
            "grid_auto_flow": null,
            "grid_area": null,
            "grid_template_columns": null,
            "flex": null,
            "_model_name": "LayoutModel",
            "justify_items": null,
            "grid_row": null,
            "max_height": null,
            "align_content": null,
            "visibility": null,
            "align_self": null,
            "height": null,
            "min_height": null,
            "padding": null,
            "grid_auto_rows": null,
            "grid_gap": null,
            "max_width": null,
            "order": null,
            "_view_module_version": "1.2.0",
            "grid_template_areas": null,
            "object_position": null,
            "object_fit": null,
            "grid_auto_columns": null,
            "margin": null,
            "display": null,
            "left": null
          }
        },
        "3d269d6bcdb346f094609d8d9e74bc5a": {
          "model_module": "@jupyter-widgets/controls",
          "model_name": "DescriptionStyleModel",
          "state": {
            "_view_name": "StyleView",
            "_model_name": "DescriptionStyleModel",
            "description_width": "",
            "_view_module": "@jupyter-widgets/base",
            "_model_module_version": "1.5.0",
            "_view_count": null,
            "_view_module_version": "1.2.0",
            "_model_module": "@jupyter-widgets/controls"
          }
        },
        "5617b05db7f748d8b31b69fdc26b31c8": {
          "model_module": "@jupyter-widgets/base",
          "model_name": "LayoutModel",
          "state": {
            "_view_name": "LayoutView",
            "grid_template_rows": null,
            "right": null,
            "justify_content": null,
            "_view_module": "@jupyter-widgets/base",
            "overflow": null,
            "_model_module_version": "1.2.0",
            "_view_count": null,
            "flex_flow": null,
            "width": null,
            "min_width": null,
            "border": null,
            "align_items": null,
            "bottom": null,
            "_model_module": "@jupyter-widgets/base",
            "top": null,
            "grid_column": null,
            "overflow_y": null,
            "overflow_x": null,
            "grid_auto_flow": null,
            "grid_area": null,
            "grid_template_columns": null,
            "flex": null,
            "_model_name": "LayoutModel",
            "justify_items": null,
            "grid_row": null,
            "max_height": null,
            "align_content": null,
            "visibility": null,
            "align_self": null,
            "height": null,
            "min_height": null,
            "padding": null,
            "grid_auto_rows": null,
            "grid_gap": null,
            "max_width": null,
            "order": null,
            "_view_module_version": "1.2.0",
            "grid_template_areas": null,
            "object_position": null,
            "object_fit": null,
            "grid_auto_columns": null,
            "margin": null,
            "display": null,
            "left": null
          }
        },
        "64c3fb6cd4a6421cb535b31968f71393": {
          "model_module": "@jupyter-widgets/controls",
          "model_name": "HBoxModel",
          "state": {
            "_view_name": "HBoxView",
            "_dom_classes": [],
            "_model_name": "HBoxModel",
            "_view_module": "@jupyter-widgets/controls",
            "_model_module_version": "1.5.0",
            "_view_count": null,
            "_view_module_version": "1.5.0",
            "box_style": "",
            "layout": "IPY_MODEL_67ecf0fd6f774b3289fd9de0a28ef235",
            "_model_module": "@jupyter-widgets/controls",
            "children": [
              "IPY_MODEL_afebf7d2daec42d28ba36b26baf3db9a",
              "IPY_MODEL_053d827d22b9421483b5c64c3c821947"
            ]
          }
        },
        "67ecf0fd6f774b3289fd9de0a28ef235": {
          "model_module": "@jupyter-widgets/base",
          "model_name": "LayoutModel",
          "state": {
            "_view_name": "LayoutView",
            "grid_template_rows": null,
            "right": null,
            "justify_content": null,
            "_view_module": "@jupyter-widgets/base",
            "overflow": null,
            "_model_module_version": "1.2.0",
            "_view_count": null,
            "flex_flow": null,
            "width": null,
            "min_width": null,
            "border": null,
            "align_items": null,
            "bottom": null,
            "_model_module": "@jupyter-widgets/base",
            "top": null,
            "grid_column": null,
            "overflow_y": null,
            "overflow_x": null,
            "grid_auto_flow": null,
            "grid_area": null,
            "grid_template_columns": null,
            "flex": null,
            "_model_name": "LayoutModel",
            "justify_items": null,
            "grid_row": null,
            "max_height": null,
            "align_content": null,
            "visibility": null,
            "align_self": null,
            "height": null,
            "min_height": null,
            "padding": null,
            "grid_auto_rows": null,
            "grid_gap": null,
            "max_width": null,
            "order": null,
            "_view_module_version": "1.2.0",
            "grid_template_areas": null,
            "object_position": null,
            "object_fit": null,
            "grid_auto_columns": null,
            "margin": null,
            "display": null,
            "left": null
          }
        },
        "afebf7d2daec42d28ba36b26baf3db9a": {
          "model_module": "@jupyter-widgets/controls",
          "model_name": "IntProgressModel",
          "state": {
            "_view_name": "ProgressView",
            "style": "IPY_MODEL_e830b35cf3f144d0acb6364010c06001",
            "_dom_classes": [],
            "description": "",
            "_model_name": "IntProgressModel",
            "bar_style": "success",
            "max": 12,
            "_view_module": "@jupyter-widgets/controls",
            "_model_module_version": "1.5.0",
            "value": 12,
            "_view_count": null,
            "_view_module_version": "1.5.0",
            "orientation": "horizontal",
            "min": 0,
            "description_tooltip": null,
            "_model_module": "@jupyter-widgets/controls",
            "layout": "IPY_MODEL_235e2b842e1f4ffeb547a91240c907c1"
          }
        },
        "053d827d22b9421483b5c64c3c821947": {
          "model_module": "@jupyter-widgets/controls",
          "model_name": "HTMLModel",
          "state": {
            "_view_name": "HTMLView",
            "style": "IPY_MODEL_fd2859bf856c4899aa1dad0bf9c1018c",
            "_dom_classes": [],
            "description": "",
            "_model_name": "HTMLModel",
            "placeholder": "​",
            "_view_module": "@jupyter-widgets/controls",
            "_model_module_version": "1.5.0",
            "value": "100% 12/12 [00:14&lt;00:00,  1.17s/it]",
            "_view_count": null,
            "_view_module_version": "1.5.0",
            "description_tooltip": null,
            "_model_module": "@jupyter-widgets/controls",
            "layout": "IPY_MODEL_945fc7f0c8dd4572afe5c054c589e889"
          }
        },
        "e830b35cf3f144d0acb6364010c06001": {
          "model_module": "@jupyter-widgets/controls",
          "model_name": "ProgressStyleModel",
          "state": {
            "_view_name": "StyleView",
            "_model_name": "ProgressStyleModel",
            "description_width": "",
            "_view_module": "@jupyter-widgets/base",
            "_model_module_version": "1.5.0",
            "_view_count": null,
            "_view_module_version": "1.2.0",
            "bar_color": null,
            "_model_module": "@jupyter-widgets/controls"
          }
        },
        "235e2b842e1f4ffeb547a91240c907c1": {
          "model_module": "@jupyter-widgets/base",
          "model_name": "LayoutModel",
          "state": {
            "_view_name": "LayoutView",
            "grid_template_rows": null,
            "right": null,
            "justify_content": null,
            "_view_module": "@jupyter-widgets/base",
            "overflow": null,
            "_model_module_version": "1.2.0",
            "_view_count": null,
            "flex_flow": null,
            "width": null,
            "min_width": null,
            "border": null,
            "align_items": null,
            "bottom": null,
            "_model_module": "@jupyter-widgets/base",
            "top": null,
            "grid_column": null,
            "overflow_y": null,
            "overflow_x": null,
            "grid_auto_flow": null,
            "grid_area": null,
            "grid_template_columns": null,
            "flex": null,
            "_model_name": "LayoutModel",
            "justify_items": null,
            "grid_row": null,
            "max_height": null,
            "align_content": null,
            "visibility": null,
            "align_self": null,
            "height": null,
            "min_height": null,
            "padding": null,
            "grid_auto_rows": null,
            "grid_gap": null,
            "max_width": null,
            "order": null,
            "_view_module_version": "1.2.0",
            "grid_template_areas": null,
            "object_position": null,
            "object_fit": null,
            "grid_auto_columns": null,
            "margin": null,
            "display": null,
            "left": null
          }
        },
        "fd2859bf856c4899aa1dad0bf9c1018c": {
          "model_module": "@jupyter-widgets/controls",
          "model_name": "DescriptionStyleModel",
          "state": {
            "_view_name": "StyleView",
            "_model_name": "DescriptionStyleModel",
            "description_width": "",
            "_view_module": "@jupyter-widgets/base",
            "_model_module_version": "1.5.0",
            "_view_count": null,
            "_view_module_version": "1.2.0",
            "_model_module": "@jupyter-widgets/controls"
          }
        },
        "945fc7f0c8dd4572afe5c054c589e889": {
          "model_module": "@jupyter-widgets/base",
          "model_name": "LayoutModel",
          "state": {
            "_view_name": "LayoutView",
            "grid_template_rows": null,
            "right": null,
            "justify_content": null,
            "_view_module": "@jupyter-widgets/base",
            "overflow": null,
            "_model_module_version": "1.2.0",
            "_view_count": null,
            "flex_flow": null,
            "width": null,
            "min_width": null,
            "border": null,
            "align_items": null,
            "bottom": null,
            "_model_module": "@jupyter-widgets/base",
            "top": null,
            "grid_column": null,
            "overflow_y": null,
            "overflow_x": null,
            "grid_auto_flow": null,
            "grid_area": null,
            "grid_template_columns": null,
            "flex": null,
            "_model_name": "LayoutModel",
            "justify_items": null,
            "grid_row": null,
            "max_height": null,
            "align_content": null,
            "visibility": null,
            "align_self": null,
            "height": null,
            "min_height": null,
            "padding": null,
            "grid_auto_rows": null,
            "grid_gap": null,
            "max_width": null,
            "order": null,
            "_view_module_version": "1.2.0",
            "grid_template_areas": null,
            "object_position": null,
            "object_fit": null,
            "grid_auto_columns": null,
            "margin": null,
            "display": null,
            "left": null
          }
        },
        "02432b9db76e4b38a0dd2628aff5c67a": {
          "model_module": "@jupyter-widgets/controls",
          "model_name": "HBoxModel",
          "state": {
            "_view_name": "HBoxView",
            "_dom_classes": [],
            "_model_name": "HBoxModel",
            "_view_module": "@jupyter-widgets/controls",
            "_model_module_version": "1.5.0",
            "_view_count": null,
            "_view_module_version": "1.5.0",
            "box_style": "",
            "layout": "IPY_MODEL_c1e26625f7974931ae7bb0a05045fc3c",
            "_model_module": "@jupyter-widgets/controls",
            "children": [
              "IPY_MODEL_746d721869cf47cf9896c16efd2634d4",
              "IPY_MODEL_edb9221a1135431a8ff3e54c16e8e25b"
            ]
          }
        },
        "c1e26625f7974931ae7bb0a05045fc3c": {
          "model_module": "@jupyter-widgets/base",
          "model_name": "LayoutModel",
          "state": {
            "_view_name": "LayoutView",
            "grid_template_rows": null,
            "right": null,
            "justify_content": null,
            "_view_module": "@jupyter-widgets/base",
            "overflow": null,
            "_model_module_version": "1.2.0",
            "_view_count": null,
            "flex_flow": null,
            "width": null,
            "min_width": null,
            "border": null,
            "align_items": null,
            "bottom": null,
            "_model_module": "@jupyter-widgets/base",
            "top": null,
            "grid_column": null,
            "overflow_y": null,
            "overflow_x": null,
            "grid_auto_flow": null,
            "grid_area": null,
            "grid_template_columns": null,
            "flex": null,
            "_model_name": "LayoutModel",
            "justify_items": null,
            "grid_row": null,
            "max_height": null,
            "align_content": null,
            "visibility": null,
            "align_self": null,
            "height": null,
            "min_height": null,
            "padding": null,
            "grid_auto_rows": null,
            "grid_gap": null,
            "max_width": null,
            "order": null,
            "_view_module_version": "1.2.0",
            "grid_template_areas": null,
            "object_position": null,
            "object_fit": null,
            "grid_auto_columns": null,
            "margin": null,
            "display": null,
            "left": null
          }
        },
        "746d721869cf47cf9896c16efd2634d4": {
          "model_module": "@jupyter-widgets/controls",
          "model_name": "IntProgressModel",
          "state": {
            "_view_name": "ProgressView",
            "style": "IPY_MODEL_9b520bc7097545f399524af0176e0786",
            "_dom_classes": [],
            "description": "",
            "_model_name": "IntProgressModel",
            "bar_style": "success",
            "max": 10,
            "_view_module": "@jupyter-widgets/controls",
            "_model_module_version": "1.5.0",
            "value": 10,
            "_view_count": null,
            "_view_module_version": "1.5.0",
            "orientation": "horizontal",
            "min": 0,
            "description_tooltip": null,
            "_model_module": "@jupyter-widgets/controls",
            "layout": "IPY_MODEL_5ad9bd33fb8e4e3c9c64684a29dc3663"
          }
        },
        "edb9221a1135431a8ff3e54c16e8e25b": {
          "model_module": "@jupyter-widgets/controls",
          "model_name": "HTMLModel",
          "state": {
            "_view_name": "HTMLView",
            "style": "IPY_MODEL_9d807506365d43d986fe1e0f2541ba92",
            "_dom_classes": [],
            "description": "",
            "_model_name": "HTMLModel",
            "placeholder": "​",
            "_view_module": "@jupyter-widgets/controls",
            "_model_module_version": "1.5.0",
            "value": "100% 10/10 [00:11&lt;00:00,  1.16s/it]",
            "_view_count": null,
            "_view_module_version": "1.5.0",
            "description_tooltip": null,
            "_model_module": "@jupyter-widgets/controls",
            "layout": "IPY_MODEL_57469b530f3f4094806e2c0145839bcf"
          }
        },
        "9b520bc7097545f399524af0176e0786": {
          "model_module": "@jupyter-widgets/controls",
          "model_name": "ProgressStyleModel",
          "state": {
            "_view_name": "StyleView",
            "_model_name": "ProgressStyleModel",
            "description_width": "",
            "_view_module": "@jupyter-widgets/base",
            "_model_module_version": "1.5.0",
            "_view_count": null,
            "_view_module_version": "1.2.0",
            "bar_color": null,
            "_model_module": "@jupyter-widgets/controls"
          }
        },
        "5ad9bd33fb8e4e3c9c64684a29dc3663": {
          "model_module": "@jupyter-widgets/base",
          "model_name": "LayoutModel",
          "state": {
            "_view_name": "LayoutView",
            "grid_template_rows": null,
            "right": null,
            "justify_content": null,
            "_view_module": "@jupyter-widgets/base",
            "overflow": null,
            "_model_module_version": "1.2.0",
            "_view_count": null,
            "flex_flow": null,
            "width": null,
            "min_width": null,
            "border": null,
            "align_items": null,
            "bottom": null,
            "_model_module": "@jupyter-widgets/base",
            "top": null,
            "grid_column": null,
            "overflow_y": null,
            "overflow_x": null,
            "grid_auto_flow": null,
            "grid_area": null,
            "grid_template_columns": null,
            "flex": null,
            "_model_name": "LayoutModel",
            "justify_items": null,
            "grid_row": null,
            "max_height": null,
            "align_content": null,
            "visibility": null,
            "align_self": null,
            "height": null,
            "min_height": null,
            "padding": null,
            "grid_auto_rows": null,
            "grid_gap": null,
            "max_width": null,
            "order": null,
            "_view_module_version": "1.2.0",
            "grid_template_areas": null,
            "object_position": null,
            "object_fit": null,
            "grid_auto_columns": null,
            "margin": null,
            "display": null,
            "left": null
          }
        },
        "9d807506365d43d986fe1e0f2541ba92": {
          "model_module": "@jupyter-widgets/controls",
          "model_name": "DescriptionStyleModel",
          "state": {
            "_view_name": "StyleView",
            "_model_name": "DescriptionStyleModel",
            "description_width": "",
            "_view_module": "@jupyter-widgets/base",
            "_model_module_version": "1.5.0",
            "_view_count": null,
            "_view_module_version": "1.2.0",
            "_model_module": "@jupyter-widgets/controls"
          }
        },
        "57469b530f3f4094806e2c0145839bcf": {
          "model_module": "@jupyter-widgets/base",
          "model_name": "LayoutModel",
          "state": {
            "_view_name": "LayoutView",
            "grid_template_rows": null,
            "right": null,
            "justify_content": null,
            "_view_module": "@jupyter-widgets/base",
            "overflow": null,
            "_model_module_version": "1.2.0",
            "_view_count": null,
            "flex_flow": null,
            "width": null,
            "min_width": null,
            "border": null,
            "align_items": null,
            "bottom": null,
            "_model_module": "@jupyter-widgets/base",
            "top": null,
            "grid_column": null,
            "overflow_y": null,
            "overflow_x": null,
            "grid_auto_flow": null,
            "grid_area": null,
            "grid_template_columns": null,
            "flex": null,
            "_model_name": "LayoutModel",
            "justify_items": null,
            "grid_row": null,
            "max_height": null,
            "align_content": null,
            "visibility": null,
            "align_self": null,
            "height": null,
            "min_height": null,
            "padding": null,
            "grid_auto_rows": null,
            "grid_gap": null,
            "max_width": null,
            "order": null,
            "_view_module_version": "1.2.0",
            "grid_template_areas": null,
            "object_position": null,
            "object_fit": null,
            "grid_auto_columns": null,
            "margin": null,
            "display": null,
            "left": null
          }
        },
        "91bc2601ae2e4831ac52926f95c09719": {
          "model_module": "@jupyter-widgets/controls",
          "model_name": "HBoxModel",
          "state": {
            "_view_name": "HBoxView",
            "_dom_classes": [],
            "_model_name": "HBoxModel",
            "_view_module": "@jupyter-widgets/controls",
            "_model_module_version": "1.5.0",
            "_view_count": null,
            "_view_module_version": "1.5.0",
            "box_style": "",
            "layout": "IPY_MODEL_df0709cab6f841e39fc34b7b73d72604",
            "_model_module": "@jupyter-widgets/controls",
            "children": [
              "IPY_MODEL_958e525ec2c64d7f830162d1dd986408",
              "IPY_MODEL_2c5c568820014fc5824430439479ea5c"
            ]
          }
        },
        "df0709cab6f841e39fc34b7b73d72604": {
          "model_module": "@jupyter-widgets/base",
          "model_name": "LayoutModel",
          "state": {
            "_view_name": "LayoutView",
            "grid_template_rows": null,
            "right": null,
            "justify_content": null,
            "_view_module": "@jupyter-widgets/base",
            "overflow": null,
            "_model_module_version": "1.2.0",
            "_view_count": null,
            "flex_flow": null,
            "width": null,
            "min_width": null,
            "border": null,
            "align_items": null,
            "bottom": null,
            "_model_module": "@jupyter-widgets/base",
            "top": null,
            "grid_column": null,
            "overflow_y": null,
            "overflow_x": null,
            "grid_auto_flow": null,
            "grid_area": null,
            "grid_template_columns": null,
            "flex": null,
            "_model_name": "LayoutModel",
            "justify_items": null,
            "grid_row": null,
            "max_height": null,
            "align_content": null,
            "visibility": null,
            "align_self": null,
            "height": null,
            "min_height": null,
            "padding": null,
            "grid_auto_rows": null,
            "grid_gap": null,
            "max_width": null,
            "order": null,
            "_view_module_version": "1.2.0",
            "grid_template_areas": null,
            "object_position": null,
            "object_fit": null,
            "grid_auto_columns": null,
            "margin": null,
            "display": null,
            "left": null
          }
        },
        "958e525ec2c64d7f830162d1dd986408": {
          "model_module": "@jupyter-widgets/controls",
          "model_name": "IntProgressModel",
          "state": {
            "_view_name": "ProgressView",
            "style": "IPY_MODEL_71f4a995b0064f609faa9952e682b6fd",
            "_dom_classes": [],
            "description": "",
            "_model_name": "IntProgressModel",
            "bar_style": "success",
            "max": 10,
            "_view_module": "@jupyter-widgets/controls",
            "_model_module_version": "1.5.0",
            "value": 10,
            "_view_count": null,
            "_view_module_version": "1.5.0",
            "orientation": "horizontal",
            "min": 0,
            "description_tooltip": null,
            "_model_module": "@jupyter-widgets/controls",
            "layout": "IPY_MODEL_6a403dca6df7480d8d984df6680d3fba"
          }
        },
        "2c5c568820014fc5824430439479ea5c": {
          "model_module": "@jupyter-widgets/controls",
          "model_name": "HTMLModel",
          "state": {
            "_view_name": "HTMLView",
            "style": "IPY_MODEL_fbec402c585e4e849e83e4f91727fe8e",
            "_dom_classes": [],
            "description": "",
            "_model_name": "HTMLModel",
            "placeholder": "​",
            "_view_module": "@jupyter-widgets/controls",
            "_model_module_version": "1.5.0",
            "value": "100% 10/10 [00:11&lt;00:00,  1.16s/it]",
            "_view_count": null,
            "_view_module_version": "1.5.0",
            "description_tooltip": null,
            "_model_module": "@jupyter-widgets/controls",
            "layout": "IPY_MODEL_b722596fed8b4d9bb4a508657a26afdb"
          }
        },
        "71f4a995b0064f609faa9952e682b6fd": {
          "model_module": "@jupyter-widgets/controls",
          "model_name": "ProgressStyleModel",
          "state": {
            "_view_name": "StyleView",
            "_model_name": "ProgressStyleModel",
            "description_width": "",
            "_view_module": "@jupyter-widgets/base",
            "_model_module_version": "1.5.0",
            "_view_count": null,
            "_view_module_version": "1.2.0",
            "bar_color": null,
            "_model_module": "@jupyter-widgets/controls"
          }
        },
        "6a403dca6df7480d8d984df6680d3fba": {
          "model_module": "@jupyter-widgets/base",
          "model_name": "LayoutModel",
          "state": {
            "_view_name": "LayoutView",
            "grid_template_rows": null,
            "right": null,
            "justify_content": null,
            "_view_module": "@jupyter-widgets/base",
            "overflow": null,
            "_model_module_version": "1.2.0",
            "_view_count": null,
            "flex_flow": null,
            "width": null,
            "min_width": null,
            "border": null,
            "align_items": null,
            "bottom": null,
            "_model_module": "@jupyter-widgets/base",
            "top": null,
            "grid_column": null,
            "overflow_y": null,
            "overflow_x": null,
            "grid_auto_flow": null,
            "grid_area": null,
            "grid_template_columns": null,
            "flex": null,
            "_model_name": "LayoutModel",
            "justify_items": null,
            "grid_row": null,
            "max_height": null,
            "align_content": null,
            "visibility": null,
            "align_self": null,
            "height": null,
            "min_height": null,
            "padding": null,
            "grid_auto_rows": null,
            "grid_gap": null,
            "max_width": null,
            "order": null,
            "_view_module_version": "1.2.0",
            "grid_template_areas": null,
            "object_position": null,
            "object_fit": null,
            "grid_auto_columns": null,
            "margin": null,
            "display": null,
            "left": null
          }
        },
        "fbec402c585e4e849e83e4f91727fe8e": {
          "model_module": "@jupyter-widgets/controls",
          "model_name": "DescriptionStyleModel",
          "state": {
            "_view_name": "StyleView",
            "_model_name": "DescriptionStyleModel",
            "description_width": "",
            "_view_module": "@jupyter-widgets/base",
            "_model_module_version": "1.5.0",
            "_view_count": null,
            "_view_module_version": "1.2.0",
            "_model_module": "@jupyter-widgets/controls"
          }
        },
        "b722596fed8b4d9bb4a508657a26afdb": {
          "model_module": "@jupyter-widgets/base",
          "model_name": "LayoutModel",
          "state": {
            "_view_name": "LayoutView",
            "grid_template_rows": null,
            "right": null,
            "justify_content": null,
            "_view_module": "@jupyter-widgets/base",
            "overflow": null,
            "_model_module_version": "1.2.0",
            "_view_count": null,
            "flex_flow": null,
            "width": null,
            "min_width": null,
            "border": null,
            "align_items": null,
            "bottom": null,
            "_model_module": "@jupyter-widgets/base",
            "top": null,
            "grid_column": null,
            "overflow_y": null,
            "overflow_x": null,
            "grid_auto_flow": null,
            "grid_area": null,
            "grid_template_columns": null,
            "flex": null,
            "_model_name": "LayoutModel",
            "justify_items": null,
            "grid_row": null,
            "max_height": null,
            "align_content": null,
            "visibility": null,
            "align_self": null,
            "height": null,
            "min_height": null,
            "padding": null,
            "grid_auto_rows": null,
            "grid_gap": null,
            "max_width": null,
            "order": null,
            "_view_module_version": "1.2.0",
            "grid_template_areas": null,
            "object_position": null,
            "object_fit": null,
            "grid_auto_columns": null,
            "margin": null,
            "display": null,
            "left": null
          }
        },
        "eabf82bc114a4dffab552684951b8540": {
          "model_module": "@jupyter-widgets/controls",
          "model_name": "HBoxModel",
          "state": {
            "_view_name": "HBoxView",
            "_dom_classes": [],
            "_model_name": "HBoxModel",
            "_view_module": "@jupyter-widgets/controls",
            "_model_module_version": "1.5.0",
            "_view_count": null,
            "_view_module_version": "1.5.0",
            "box_style": "",
            "layout": "IPY_MODEL_d7291e7ae73e4473b19341956d2e6f3a",
            "_model_module": "@jupyter-widgets/controls",
            "children": [
              "IPY_MODEL_8a4fe94357db4279a4d05b0f31ad7708",
              "IPY_MODEL_6589edf6dfbb4c34b503455b45891fb4"
            ]
          }
        },
        "d7291e7ae73e4473b19341956d2e6f3a": {
          "model_module": "@jupyter-widgets/base",
          "model_name": "LayoutModel",
          "state": {
            "_view_name": "LayoutView",
            "grid_template_rows": null,
            "right": null,
            "justify_content": null,
            "_view_module": "@jupyter-widgets/base",
            "overflow": null,
            "_model_module_version": "1.2.0",
            "_view_count": null,
            "flex_flow": null,
            "width": null,
            "min_width": null,
            "border": null,
            "align_items": null,
            "bottom": null,
            "_model_module": "@jupyter-widgets/base",
            "top": null,
            "grid_column": null,
            "overflow_y": null,
            "overflow_x": null,
            "grid_auto_flow": null,
            "grid_area": null,
            "grid_template_columns": null,
            "flex": null,
            "_model_name": "LayoutModel",
            "justify_items": null,
            "grid_row": null,
            "max_height": null,
            "align_content": null,
            "visibility": null,
            "align_self": null,
            "height": null,
            "min_height": null,
            "padding": null,
            "grid_auto_rows": null,
            "grid_gap": null,
            "max_width": null,
            "order": null,
            "_view_module_version": "1.2.0",
            "grid_template_areas": null,
            "object_position": null,
            "object_fit": null,
            "grid_auto_columns": null,
            "margin": null,
            "display": null,
            "left": null
          }
        },
        "8a4fe94357db4279a4d05b0f31ad7708": {
          "model_module": "@jupyter-widgets/controls",
          "model_name": "IntProgressModel",
          "state": {
            "_view_name": "ProgressView",
            "style": "IPY_MODEL_30739729f64a44b39f89f81b0933cdb0",
            "_dom_classes": [],
            "description": "",
            "_model_name": "IntProgressModel",
            "bar_style": "success",
            "max": 10,
            "_view_module": "@jupyter-widgets/controls",
            "_model_module_version": "1.5.0",
            "value": 10,
            "_view_count": null,
            "_view_module_version": "1.5.0",
            "orientation": "horizontal",
            "min": 0,
            "description_tooltip": null,
            "_model_module": "@jupyter-widgets/controls",
            "layout": "IPY_MODEL_02438bceddf54ac796985171a8232ba1"
          }
        },
        "6589edf6dfbb4c34b503455b45891fb4": {
          "model_module": "@jupyter-widgets/controls",
          "model_name": "HTMLModel",
          "state": {
            "_view_name": "HTMLView",
            "style": "IPY_MODEL_627b57f14fb04f2cbe1828ca9c937f01",
            "_dom_classes": [],
            "description": "",
            "_model_name": "HTMLModel",
            "placeholder": "​",
            "_view_module": "@jupyter-widgets/controls",
            "_model_module_version": "1.5.0",
            "value": "100% 10/10 [00:11&lt;00:00,  1.21s/it]",
            "_view_count": null,
            "_view_module_version": "1.5.0",
            "description_tooltip": null,
            "_model_module": "@jupyter-widgets/controls",
            "layout": "IPY_MODEL_73d8ef76fc1e49bba1a67454128db5d9"
          }
        },
        "30739729f64a44b39f89f81b0933cdb0": {
          "model_module": "@jupyter-widgets/controls",
          "model_name": "ProgressStyleModel",
          "state": {
            "_view_name": "StyleView",
            "_model_name": "ProgressStyleModel",
            "description_width": "",
            "_view_module": "@jupyter-widgets/base",
            "_model_module_version": "1.5.0",
            "_view_count": null,
            "_view_module_version": "1.2.0",
            "bar_color": null,
            "_model_module": "@jupyter-widgets/controls"
          }
        },
        "02438bceddf54ac796985171a8232ba1": {
          "model_module": "@jupyter-widgets/base",
          "model_name": "LayoutModel",
          "state": {
            "_view_name": "LayoutView",
            "grid_template_rows": null,
            "right": null,
            "justify_content": null,
            "_view_module": "@jupyter-widgets/base",
            "overflow": null,
            "_model_module_version": "1.2.0",
            "_view_count": null,
            "flex_flow": null,
            "width": null,
            "min_width": null,
            "border": null,
            "align_items": null,
            "bottom": null,
            "_model_module": "@jupyter-widgets/base",
            "top": null,
            "grid_column": null,
            "overflow_y": null,
            "overflow_x": null,
            "grid_auto_flow": null,
            "grid_area": null,
            "grid_template_columns": null,
            "flex": null,
            "_model_name": "LayoutModel",
            "justify_items": null,
            "grid_row": null,
            "max_height": null,
            "align_content": null,
            "visibility": null,
            "align_self": null,
            "height": null,
            "min_height": null,
            "padding": null,
            "grid_auto_rows": null,
            "grid_gap": null,
            "max_width": null,
            "order": null,
            "_view_module_version": "1.2.0",
            "grid_template_areas": null,
            "object_position": null,
            "object_fit": null,
            "grid_auto_columns": null,
            "margin": null,
            "display": null,
            "left": null
          }
        },
        "627b57f14fb04f2cbe1828ca9c937f01": {
          "model_module": "@jupyter-widgets/controls",
          "model_name": "DescriptionStyleModel",
          "state": {
            "_view_name": "StyleView",
            "_model_name": "DescriptionStyleModel",
            "description_width": "",
            "_view_module": "@jupyter-widgets/base",
            "_model_module_version": "1.5.0",
            "_view_count": null,
            "_view_module_version": "1.2.0",
            "_model_module": "@jupyter-widgets/controls"
          }
        },
        "73d8ef76fc1e49bba1a67454128db5d9": {
          "model_module": "@jupyter-widgets/base",
          "model_name": "LayoutModel",
          "state": {
            "_view_name": "LayoutView",
            "grid_template_rows": null,
            "right": null,
            "justify_content": null,
            "_view_module": "@jupyter-widgets/base",
            "overflow": null,
            "_model_module_version": "1.2.0",
            "_view_count": null,
            "flex_flow": null,
            "width": null,
            "min_width": null,
            "border": null,
            "align_items": null,
            "bottom": null,
            "_model_module": "@jupyter-widgets/base",
            "top": null,
            "grid_column": null,
            "overflow_y": null,
            "overflow_x": null,
            "grid_auto_flow": null,
            "grid_area": null,
            "grid_template_columns": null,
            "flex": null,
            "_model_name": "LayoutModel",
            "justify_items": null,
            "grid_row": null,
            "max_height": null,
            "align_content": null,
            "visibility": null,
            "align_self": null,
            "height": null,
            "min_height": null,
            "padding": null,
            "grid_auto_rows": null,
            "grid_gap": null,
            "max_width": null,
            "order": null,
            "_view_module_version": "1.2.0",
            "grid_template_areas": null,
            "object_position": null,
            "object_fit": null,
            "grid_auto_columns": null,
            "margin": null,
            "display": null,
            "left": null
          }
        },
        "c6d00bbbba484252bf1eb56b9e608070": {
          "model_module": "@jupyter-widgets/controls",
          "model_name": "HBoxModel",
          "state": {
            "_view_name": "HBoxView",
            "_dom_classes": [],
            "_model_name": "HBoxModel",
            "_view_module": "@jupyter-widgets/controls",
            "_model_module_version": "1.5.0",
            "_view_count": null,
            "_view_module_version": "1.5.0",
            "box_style": "",
            "layout": "IPY_MODEL_457d11ee2744487b9ec28b8983d9e0f5",
            "_model_module": "@jupyter-widgets/controls",
            "children": [
              "IPY_MODEL_23985f87152249a3835d66099073c846",
              "IPY_MODEL_866a6ce35a864c64ac8121f8c9724bbf"
            ]
          }
        },
        "457d11ee2744487b9ec28b8983d9e0f5": {
          "model_module": "@jupyter-widgets/base",
          "model_name": "LayoutModel",
          "state": {
            "_view_name": "LayoutView",
            "grid_template_rows": null,
            "right": null,
            "justify_content": null,
            "_view_module": "@jupyter-widgets/base",
            "overflow": null,
            "_model_module_version": "1.2.0",
            "_view_count": null,
            "flex_flow": null,
            "width": null,
            "min_width": null,
            "border": null,
            "align_items": null,
            "bottom": null,
            "_model_module": "@jupyter-widgets/base",
            "top": null,
            "grid_column": null,
            "overflow_y": null,
            "overflow_x": null,
            "grid_auto_flow": null,
            "grid_area": null,
            "grid_template_columns": null,
            "flex": null,
            "_model_name": "LayoutModel",
            "justify_items": null,
            "grid_row": null,
            "max_height": null,
            "align_content": null,
            "visibility": null,
            "align_self": null,
            "height": null,
            "min_height": null,
            "padding": null,
            "grid_auto_rows": null,
            "grid_gap": null,
            "max_width": null,
            "order": null,
            "_view_module_version": "1.2.0",
            "grid_template_areas": null,
            "object_position": null,
            "object_fit": null,
            "grid_auto_columns": null,
            "margin": null,
            "display": null,
            "left": null
          }
        },
        "23985f87152249a3835d66099073c846": {
          "model_module": "@jupyter-widgets/controls",
          "model_name": "IntProgressModel",
          "state": {
            "_view_name": "ProgressView",
            "style": "IPY_MODEL_36e366401cab40ef8f4b7de7ea419fc5",
            "_dom_classes": [],
            "description": "",
            "_model_name": "IntProgressModel",
            "bar_style": "success",
            "max": 10,
            "_view_module": "@jupyter-widgets/controls",
            "_model_module_version": "1.5.0",
            "value": 10,
            "_view_count": null,
            "_view_module_version": "1.5.0",
            "orientation": "horizontal",
            "min": 0,
            "description_tooltip": null,
            "_model_module": "@jupyter-widgets/controls",
            "layout": "IPY_MODEL_0a4c08157dd240deae43f6552799be6c"
          }
        },
        "866a6ce35a864c64ac8121f8c9724bbf": {
          "model_module": "@jupyter-widgets/controls",
          "model_name": "HTMLModel",
          "state": {
            "_view_name": "HTMLView",
            "style": "IPY_MODEL_4a8d24769ed14530aced74fefbd9dbb8",
            "_dom_classes": [],
            "description": "",
            "_model_name": "HTMLModel",
            "placeholder": "​",
            "_view_module": "@jupyter-widgets/controls",
            "_model_module_version": "1.5.0",
            "value": "100% 10/10 [00:11&lt;00:00,  1.12s/it]",
            "_view_count": null,
            "_view_module_version": "1.5.0",
            "description_tooltip": null,
            "_model_module": "@jupyter-widgets/controls",
            "layout": "IPY_MODEL_7224dd54bee54d81a545b94367607814"
          }
        },
        "36e366401cab40ef8f4b7de7ea419fc5": {
          "model_module": "@jupyter-widgets/controls",
          "model_name": "ProgressStyleModel",
          "state": {
            "_view_name": "StyleView",
            "_model_name": "ProgressStyleModel",
            "description_width": "",
            "_view_module": "@jupyter-widgets/base",
            "_model_module_version": "1.5.0",
            "_view_count": null,
            "_view_module_version": "1.2.0",
            "bar_color": null,
            "_model_module": "@jupyter-widgets/controls"
          }
        },
        "0a4c08157dd240deae43f6552799be6c": {
          "model_module": "@jupyter-widgets/base",
          "model_name": "LayoutModel",
          "state": {
            "_view_name": "LayoutView",
            "grid_template_rows": null,
            "right": null,
            "justify_content": null,
            "_view_module": "@jupyter-widgets/base",
            "overflow": null,
            "_model_module_version": "1.2.0",
            "_view_count": null,
            "flex_flow": null,
            "width": null,
            "min_width": null,
            "border": null,
            "align_items": null,
            "bottom": null,
            "_model_module": "@jupyter-widgets/base",
            "top": null,
            "grid_column": null,
            "overflow_y": null,
            "overflow_x": null,
            "grid_auto_flow": null,
            "grid_area": null,
            "grid_template_columns": null,
            "flex": null,
            "_model_name": "LayoutModel",
            "justify_items": null,
            "grid_row": null,
            "max_height": null,
            "align_content": null,
            "visibility": null,
            "align_self": null,
            "height": null,
            "min_height": null,
            "padding": null,
            "grid_auto_rows": null,
            "grid_gap": null,
            "max_width": null,
            "order": null,
            "_view_module_version": "1.2.0",
            "grid_template_areas": null,
            "object_position": null,
            "object_fit": null,
            "grid_auto_columns": null,
            "margin": null,
            "display": null,
            "left": null
          }
        },
        "4a8d24769ed14530aced74fefbd9dbb8": {
          "model_module": "@jupyter-widgets/controls",
          "model_name": "DescriptionStyleModel",
          "state": {
            "_view_name": "StyleView",
            "_model_name": "DescriptionStyleModel",
            "description_width": "",
            "_view_module": "@jupyter-widgets/base",
            "_model_module_version": "1.5.0",
            "_view_count": null,
            "_view_module_version": "1.2.0",
            "_model_module": "@jupyter-widgets/controls"
          }
        },
        "7224dd54bee54d81a545b94367607814": {
          "model_module": "@jupyter-widgets/base",
          "model_name": "LayoutModel",
          "state": {
            "_view_name": "LayoutView",
            "grid_template_rows": null,
            "right": null,
            "justify_content": null,
            "_view_module": "@jupyter-widgets/base",
            "overflow": null,
            "_model_module_version": "1.2.0",
            "_view_count": null,
            "flex_flow": null,
            "width": null,
            "min_width": null,
            "border": null,
            "align_items": null,
            "bottom": null,
            "_model_module": "@jupyter-widgets/base",
            "top": null,
            "grid_column": null,
            "overflow_y": null,
            "overflow_x": null,
            "grid_auto_flow": null,
            "grid_area": null,
            "grid_template_columns": null,
            "flex": null,
            "_model_name": "LayoutModel",
            "justify_items": null,
            "grid_row": null,
            "max_height": null,
            "align_content": null,
            "visibility": null,
            "align_self": null,
            "height": null,
            "min_height": null,
            "padding": null,
            "grid_auto_rows": null,
            "grid_gap": null,
            "max_width": null,
            "order": null,
            "_view_module_version": "1.2.0",
            "grid_template_areas": null,
            "object_position": null,
            "object_fit": null,
            "grid_auto_columns": null,
            "margin": null,
            "display": null,
            "left": null
          }
        }
      }
    }
  },
  "cells": [
    {
      "cell_type": "markdown",
      "metadata": {
        "id": "view-in-github",
        "colab_type": "text"
      },
      "source": [
        "<a href=\"https://colab.research.google.com/github/AndreySmirdin/DeepUnsupervisedLearning/blob/hw3/Task6.ipynb\" target=\"_parent\"><img src=\"https://colab.research.google.com/assets/colab-badge.svg\" alt=\"Open In Colab\"/></a>"
      ]
    },
    {
      "cell_type": "code",
      "metadata": {
        "id": "-Z3lKSRDhkXY",
        "colab_type": "code",
        "colab": {}
      },
      "source": [
        "import datetime\n",
        "import pickle\n",
        "import os\n",
        "import numpy as np\n",
        "import torch \n",
        "import torch.nn as nn\n",
        "import torch.nn.functional as F\n",
        "import matplotlib.pyplot as plt\n",
        "from torch.distributions import MultivariateNormal, Normal\n",
        "import torchvision\n",
        "from sklearn.model_selection import train_test_split\n",
        "from scipy.stats import norm\n",
        "from tqdm.auto import tqdm\n",
        "from google.colab import drive\n",
        "\n",
        "device = torch.device('cuda:0' if torch.cuda.is_available() else 'cpu')"
      ],
      "execution_count": 0,
      "outputs": []
    },
    {
      "cell_type": "code",
      "metadata": {
        "id": "1ZrdxgNnhtvq",
        "colab_type": "code",
        "colab": {}
      },
      "source": [
        "def sample_data_1():\n",
        "    count = 100000\n",
        "    rand = np.random.RandomState(0)\n",
        "    return [[1.0, 2.0]] + rand.randn(count, 2) * [[5.0, 1.0]]\n",
        "\n",
        "def sample_data_2():\n",
        "    count = 100000\n",
        "    rand = np.random.RandomState(0)\n",
        "    return [[1.0, 2.0]] + (rand.randn(count, 2) * [[5.0, 1.0]]).dot([[np.sqrt(2) / 2, np.sqrt(2) / 2], [-np.sqrt(2) / 2, np.sqrt(2) / 2]])"
      ],
      "execution_count": 0,
      "outputs": []
    },
    {
      "cell_type": "code",
      "metadata": {
        "id": "3QSW6HZYh0q1",
        "colab_type": "code",
        "outputId": "18f085b7-540e-4d00-e07b-59da755b2078",
        "colab": {
          "base_uri": "https://localhost:8080/",
          "height": 265
        }
      },
      "source": [
        "data_1 = sample_data_1()\n",
        "data_2 = sample_data_2()\n",
        "plt.scatter(data_1[:, 0], data_1[:, 1]);"
      ],
      "execution_count": 250,
      "outputs": [
        {
          "output_type": "display_data",
          "data": {
            "image/png": "[encoded data removed]",
            "text/plain": [
              "<Figure size 432x288 with 1 Axes>"
            ]
          },
          "metadata": {
            "tags": []
          }
        }
      ]
    },
    {
      "cell_type": "code",
      "metadata": {
        "id": "rWhs4OFAiJN5",
        "colab_type": "code",
        "outputId": "9692c4b3-6821-47a0-a3fb-12275e71f49d",
        "colab": {
          "base_uri": "https://localhost:8080/",
          "height": 265
        }
      },
      "source": [
        "plt.scatter(data_2[:, 0], data_2[:, 1]);"
      ],
      "execution_count": 251,
      "outputs": [
        {
          "output_type": "display_data",
          "data": {
            "image/png": "[encoded data removed]",
            "text/plain": [
              "<Figure size 432x288 with 1 Axes>"
            ]
          },
          "metadata": {
            "tags": []
          }
        }
      ]
    },
    {
      "cell_type": "code",
      "metadata": {
        "id": "YkYXZQpuiO1J",
        "colab_type": "code",
        "colab": {}
      },
      "source": [
        "class MLP(nn.Module):\n",
        "    def __init__(self, in_size, out_size, hidden_size=256):\n",
        "        super().__init__()\n",
        "        self.hidden_size = hidden_size\n",
        "        self.in_size = in_size\n",
        "        self.out_size = out_size\n",
        "        self.model = nn.Sequential(nn.Linear(self.in_size, self.hidden_size),\n",
        "                                   nn.ReLU(),\n",
        "                                   nn.Linear(self.hidden_size, self.out_size))\n",
        "        \n",
        "    def forward(self, X):\n",
        "        return self.model(X)\n",
        "\n",
        "def get_kl_loss(mu, sigma):\n",
        "    return (sigma.exp() + mu ** 2 - 1 - sigma) / 2\n",
        "\n",
        "def get_decoder_loss(mu, sigma, x):\n",
        "    return (torch.log(np.pi * 2 * sigma.exp())) / 2 + (x - mu) ** 2 / sigma.exp()\n",
        "\n",
        "class VAE(nn.Module):\n",
        "    def __init__(self, encoder, decoder):\n",
        "        super().__init__()\n",
        "        self.encoder = encoder\n",
        "        self.decoder = decoder\n",
        "\n",
        "    def apply_normal(self, n, mu, sigma):\n",
        "        return torch.randn(n, 2) * (sigma.exp() ** 0.5) + mu\n",
        "\n",
        "    def forward(self, X):\n",
        "        X = X.float()\n",
        "        n = X.shape[0]\n",
        "        sampled, mu_z, sigma_z = self.to_latent(X)\n",
        "        decoded = self.decoder(sampled)\n",
        "        mu_x, sigma_x = torch.chunk(decoded, 2, dim=1)\n",
        "\n",
        "        kl_loss = get_kl_loss(mu_z, sigma_z)\n",
        "        decoder_loss = get_decoder_loss(mu_x, sigma_x, X)\n",
        "        return self.apply_normal(n, mu_x, sigma_x), decoder_loss.mean(), kl_loss.mean()\n",
        "\n",
        "    def sample(self, n=1000):\n",
        "        sampled = torch.randn((n, 2))\n",
        "        mu, sigma = torch.chunk(self.decoder(sampled), 2, dim=1)\n",
        "        print(mu.shape, sigma.shape)\n",
        "        return mu, self.apply_normal(n, mu, sigma)\n",
        "\n",
        "    def to_latent(self, X):\n",
        "        X = X.float()\n",
        "        n = X.shape[0]\n",
        "        encoded = self.encoder(X)\n",
        "        mu, sigma = torch.chunk(encoded, 2, dim=1)\n",
        "\n",
        "        sampled = self.apply_normal(n, mu, sigma)\n",
        "        return sampled, mu, sigma"
      ],
      "execution_count": 0,
      "outputs": []
    },
    {
      "cell_type": "code",
      "metadata": {
        "id": "RCKGuppu1ERW",
        "colab_type": "code",
        "colab": {}
      },
      "source": [
        "def train(model, optim, train_loader, test_loader, num_epochs):\n",
        "    losses, val_losses = [], []\n",
        "    decoder_loss, kl_loss = [], []\n",
        "\n",
        "    for epoch in tqdm(range(num_epochs)):\n",
        "        loss, val_loss = 0, 0\n",
        "        for batch in train_loader:\n",
        "            batch = batch.to(device)\n",
        "            optim.zero_grad()\n",
        "            z, loss1, loss2 = model(batch)\n",
        "            decoder_loss.append(loss1)\n",
        "            kl_loss.append(loss2)\n",
        "            cur_loss = loss1 + loss2\n",
        "            loss += cur_loss.item()\n",
        "            cur_loss.backward()\n",
        "            optim.step()\n",
        "        \n",
        "        with torch.no_grad():\n",
        "            for batch in test_loader:\n",
        "                batch = batch.to(device)\n",
        "                z, loss1, loss2 = model(batch)\n",
        "                cur_loss = loss1 + loss2\n",
        "                val_loss += cur_loss.item()\n",
        "                \n",
        "        loss /= len(train_loader)\n",
        "        val_loss /= len(test_loader)\n",
        "        losses.append(loss)\n",
        "        val_losses.append(val_loss)\n",
        "\n",
        "        print(f'After epoch {epoch} train loss is {loss} valiidation loss is {val_loss}')\n",
        "    kl_loss = kl_loss[50:]\n",
        "    decoder_loss = decoder_loss[50:]\n",
        "    plt.plot(np.arange(len(kl_loss)), kl_loss)\n",
        "    plt.plot(np.arange(len(decoder_loss)), decoder_loss)\n",
        "    plt.legend(('kl_loss', 'decoder_loss'));\n",
        "    return losses, val_losses\n",
        "\n",
        "def draw_losses(train_loss, val_loss):\n",
        "    plt.plot(np.arange(len(val_loss)), val_loss)\n",
        "    plt.plot(np.arange(len(loss)), loss)\n",
        "    plt.legend(('validation','train'));\n",
        "\n",
        "def draw_samples(model, data=None, n=1000):\n",
        "    sample, sample_noise = model.sample(n)\n",
        "    sample = sample.detach().numpy()\n",
        "    sample_noise = sample_noise.detach().numpy()\n",
        "\n",
        "    plt.scatter(sample_noise[:, 0], sample_noise[:, 1], color='blue')\n",
        "    plt.scatter(sample[:, 0], sample[:, 1], color='yellow')\n",
        "    plt.legend(('noise', 'mu only'));\n",
        "    # if data is not None:\n",
        "    #     plt.scatter(data[:n, 0], data[:n, 1], color='red');\n",
        "\n",
        "batch_size = 1024\n",
        "\n",
        "train_1, test_1 = train_test_split(data_1, train_size=0.8)\n",
        "train_2, test_2 = train_test_split(data_2, train_size=0.8)\n",
        "train_loader1 = torch.utils.data.DataLoader(train_1, batch_size=batch_size, shuffle=True)\n",
        "test_loader1 = torch.utils.data.DataLoader(test_1, batch_size=batch_size, shuffle=False) \n",
        "train_loader2 = torch.utils.data.DataLoader(train_2, batch_size=batch_size, shuffle=True)\n",
        "test_loader2 = torch.utils.data.DataLoader(test_2, batch_size=batch_size, shuffle=False) "
      ],
      "execution_count": 0,
      "outputs": []
    },
    {
      "cell_type": "markdown",
      "metadata": {
        "id": "2U6JE8YwFc2T",
        "colab_type": "text"
      },
      "source": [
        "VAE 1, dataset 1\n"
      ]
    },
    {
      "cell_type": "code",
      "metadata": {
        "id": "jFzjifPh1885",
        "colab_type": "code",
        "outputId": "c8ab8d84-202a-43c7-9238-66e7782454d0",
        "colab": {
          "base_uri": "https://localhost:8080/",
          "height": 484,
          "referenced_widgets": [
            "204ac4455a474ec5a019931576c3f022",
            "23619615402041fc908cbb73a28dcaa7",
            "4f2c93fc01f24a8483a2939cb8903d64",
            "62a690486465479c96399909d84fc98e",
            "71d520f8be3c4962955c975d1a0e4fd1",
            "622532110e92417b833381ec7f6d63f7",
            "3d269d6bcdb346f094609d8d9e74bc5a",
            "5617b05db7f748d8b31b69fdc26b31c8"
          ]
        }
      },
      "source": [
        "num_epochs = 10\n",
        "encoder = MLP(2, 4)\n",
        "decoder = MLP(2, 4)\n",
        "model = VAE(encoder, decoder)\n",
        "optim = torch.optim.Adam(model.parameters())\n",
        "loss, val_loss = train(model, optim, train_loader1, test_loader1, num_epochs)"
      ],
      "execution_count": 254,
      "outputs": [
        {
          "output_type": "display_data",
          "data": {
            "application/vnd.jupyter.widget-view+json": {
              "model_id": "204ac4455a474ec5a019931576c3f022",
              "version_minor": 0,
              "version_major": 2
            },
            "text/plain": [
              "HBox(children=(IntProgress(value=0, max=10), HTML(value='')))"
            ]
          },
          "metadata": {
            "tags": []
          }
        },
        {
          "output_type": "stream",
          "text": [
            "After epoch 0 train loss is 3.781243945978865 valiidation loss is 2.8232332348823546\n",
            "After epoch 1 train loss is 2.7233579460578627 valiidation loss is 2.6815796732902526\n",
            "After epoch 2 train loss is 2.6446654645702505 valiidation loss is 2.634673845767975\n",
            "After epoch 3 train loss is 2.618038050736053 valiidation loss is 2.6145188927650453\n",
            "After epoch 4 train loss is 2.6010198955294452 valiidation loss is 2.6064396858215333\n",
            "After epoch 5 train loss is 2.593126212494283 valiidation loss is 2.595229184627533\n",
            "After epoch 6 train loss is 2.584036250657673 valiidation loss is 2.5911325573921205\n",
            "After epoch 7 train loss is 2.5803725387476666 valiidation loss is 2.582063102722168\n",
            "After epoch 8 train loss is 2.5741339937041077 valiidation loss is 2.5820697426795958\n",
            "After epoch 9 train loss is 2.57389332372931 valiidation loss is 2.5791407227516174\n",
            "\n"
          ],
          "name": "stdout"
        },
        {
          "output_type": "display_data",
          "data": {
            "image/png": "[encoded data removed]",
            "text/plain": [
              "<Figure size 432x288 with 1 Axes>"
            ]
          },
          "metadata": {
            "tags": []
          }
        }
      ]
    },
    {
      "cell_type": "code",
      "metadata": {
        "id": "alQkfxbs4LO3",
        "colab_type": "code",
        "outputId": "f9055c79-4496-49e9-c50f-d1d25aa0d3e8",
        "colab": {
          "base_uri": "https://localhost:8080/",
          "height": 265
        }
      },
      "source": [
        "draw_losses(loss, val_loss)"
      ],
      "execution_count": 255,
      "outputs": [
        {
          "output_type": "display_data",
          "data": {
            "image/png": "[encoded data removed]",
            "text/plain": [
              "<Figure size 432x288 with 1 Axes>"
            ]
          },
          "metadata": {
            "tags": []
          }
        }
      ]
    },
    {
      "cell_type": "code",
      "metadata": {
        "id": "7fAWXUD-65Lv",
        "colab_type": "code",
        "outputId": "db2873b7-ff00-414d-a36c-8158abcbeaae",
        "colab": {
          "base_uri": "https://localhost:8080/",
          "height": 282
        }
      },
      "source": [
        "draw_samples(model, data_1)"
      ],
      "execution_count": 256,
      "outputs": [
        {
          "output_type": "stream",
          "text": [
            "torch.Size([1000, 2]) torch.Size([1000, 2])\n"
          ],
          "name": "stdout"
        },
        {
          "output_type": "display_data",
          "data": {
            "image/png": "[encoded data removed]",
            "text/plain": [
              "<Figure size 432x288 with 1 Axes>"
            ]
          },
          "metadata": {
            "tags": []
          }
        }
      ]
    },
    {
      "cell_type": "markdown",
      "metadata": {
        "id": "zRvem3cOFwpw",
        "colab_type": "text"
      },
      "source": [
        "VAE 1, dataset 2\n"
      ]
    },
    {
      "cell_type": "code",
      "metadata": {
        "id": "jjTFeubdAkoO",
        "colab_type": "code",
        "outputId": "726582d2-b577-42fd-de13-6a3a687fd753",
        "colab": {
          "base_uri": "https://localhost:8080/",
          "height": 518,
          "referenced_widgets": [
            "64c3fb6cd4a6421cb535b31968f71393",
            "67ecf0fd6f774b3289fd9de0a28ef235",
            "afebf7d2daec42d28ba36b26baf3db9a",
            "053d827d22b9421483b5c64c3c821947",
            "e830b35cf3f144d0acb6364010c06001",
            "235e2b842e1f4ffeb547a91240c907c1",
            "fd2859bf856c4899aa1dad0bf9c1018c",
            "945fc7f0c8dd4572afe5c054c589e889"
          ]
        }
      },
      "source": [
        "num_epochs = 12\n",
        "encoder = Encoder(2, 4)\n",
        "decoder = Decoder(2, 4)\n",
        "model2 = VAE(encoder, decoder)\n",
        "optim = torch.optim.Adam(model2.parameters())\n",
        "loss, val_loss = train(model2, optim, train_loader2, test_loader2, num_epochs)"
      ],
      "execution_count": 257,
      "outputs": [
        {
          "output_type": "display_data",
          "data": {
            "application/vnd.jupyter.widget-view+json": {
              "model_id": "64c3fb6cd4a6421cb535b31968f71393",
              "version_minor": 0,
              "version_major": 2
            },
            "text/plain": [
              "HBox(children=(IntProgress(value=0, max=12), HTML(value='')))"
            ]
          },
          "metadata": {
            "tags": []
          }
        },
        {
          "output_type": "stream",
          "text": [
            "After epoch 0 train loss is 4.7887669424467445 valiidation loss is 3.113174521923065\n",
            "After epoch 1 train loss is 2.9792790020568463 valiidation loss is 2.857843506336212\n",
            "After epoch 2 train loss is 2.789986375011975 valiidation loss is 2.710242211818695\n",
            "After epoch 3 train loss is 2.6725035256977323 valiidation loss is 2.6253442049026487\n",
            "After epoch 4 train loss is 2.610932217368597 valiidation loss is 2.5882036805152895\n",
            "After epoch 5 train loss is 2.5895426182807246 valiidation loss is 2.5819900393486024\n",
            "After epoch 6 train loss is 2.579782289794729 valiidation loss is 2.5705236554145814\n",
            "After epoch 7 train loss is 2.57771833335297 valiidation loss is 2.5681933760643005\n",
            "After epoch 8 train loss is 2.5749310239960876 valiidation loss is 2.577177846431732\n",
            "After epoch 9 train loss is 2.578515282160119 valiidation loss is 2.569108748435974\n",
            "After epoch 10 train loss is 2.577676175515863 valiidation loss is 2.5783229947090147\n",
            "After epoch 11 train loss is 2.579133794277529 valiidation loss is 2.568414545059204\n",
            "\n"
          ],
          "name": "stdout"
        },
        {
          "output_type": "display_data",
          "data": {
            "image/png": "[encoded data removed]",
            "text/plain": [
              "<Figure size 432x288 with 1 Axes>"
            ]
          },
          "metadata": {
            "tags": []
          }
        }
      ]
    },
    {
      "cell_type": "code",
      "metadata": {
        "id": "RIeLRfXkF3yA",
        "colab_type": "code",
        "outputId": "b5a22c4f-74f5-40c2-d5ba-1ea11731b0d3",
        "colab": {
          "base_uri": "https://localhost:8080/",
          "height": 265
        }
      },
      "source": [
        "draw_losses(loss, val_loss)"
      ],
      "execution_count": 258,
      "outputs": [
        {
          "output_type": "display_data",
          "data": {
            "image/png": "[encoded data removed]",
            "text/plain": [
              "<Figure size 432x288 with 1 Axes>"
            ]
          },
          "metadata": {
            "tags": []
          }
        }
      ]
    },
    {
      "cell_type": "code",
      "metadata": {
        "id": "aw7xfg9fF8TW",
        "colab_type": "code",
        "outputId": "9ccacfc5-60fe-4d3f-9864-e61c0e587bdd",
        "colab": {
          "base_uri": "https://localhost:8080/",
          "height": 282
        }
      },
      "source": [
        "draw_samples(model2, data_2)"
      ],
      "execution_count": 259,
      "outputs": [
        {
          "output_type": "stream",
          "text": [
            "torch.Size([1000, 2]) torch.Size([1000, 2])\n"
          ],
          "name": "stdout"
        },
        {
          "output_type": "display_data",
          "data": {
            "image/png": "[encoded data removed]",
            "text/plain": [
              "<Figure size 432x288 with 1 Axes>"
            ]
          },
          "metadata": {
            "tags": []
          }
        }
      ]
    },
    {
      "cell_type": "code",
      "metadata": {
        "id": "-N4Qu5rbF-nC",
        "colab_type": "code",
        "colab": {}
      },
      "source": [
        "class VAE2(nn.Module):\n",
        "    def __init__(self, encoder, decoder):\n",
        "        super().__init__()\n",
        "        self.encoder = encoder\n",
        "        self.decoder = decoder\n",
        "\n",
        "    def apply_normal(self, n, mu, sigma):\n",
        "        return torch.randn(n, 2) * (sigma.exp() ** 0.5) + mu\n",
        "\n",
        "    def split(self, x):\n",
        "        mu = x[:, :-1]\n",
        "        sigma = x[:, -1]\n",
        "        return mu, sigma.reshape(-1, 1)\n",
        "\n",
        "    def forward(self, X):\n",
        "        X = X.float()\n",
        "        n = X.shape[0]\n",
        "        sampled, mu_z, sigma_z = self.to_latent(X)\n",
        "        decoded = self.decoder(sampled)\n",
        "        mu_x, sigma_x = self.split(decoded)\n",
        "\n",
        "        kl_loss = get_kl_loss(mu_z, sigma_z)\n",
        "        decoder_loss = get_decoder_loss(mu_x, sigma_x, X)\n",
        "        return self.apply_normal(n, mu_x, sigma_x), decoder_loss.mean(), kl_loss.mean()\n",
        "\n",
        "    def sample(self, n=1000):\n",
        "        sampled = torch.randn((n, 2))\n",
        "        decoded = self.decoder(sampled)\n",
        "        mu, sigma = self.split(decoded)\n",
        "        return mu, self.apply_normal(n, mu, sigma)\n",
        "\n",
        "    def to_latent(self, X):\n",
        "        X = X.float()\n",
        "        n = X.shape[0]\n",
        "        encoded = self.encoder(X)\n",
        "        mu, sigma = self.split(encoded)\n",
        "\n",
        "        sampled = self.apply_normal(n, mu, sigma)\n",
        "        return sampled, mu, sigma"
      ],
      "execution_count": 0,
      "outputs": []
    },
    {
      "cell_type": "markdown",
      "metadata": {
        "id": "2rEsBERmQRrl",
        "colab_type": "text"
      },
      "source": [
        "VAE 2, dataset 1"
      ]
    },
    {
      "cell_type": "code",
      "metadata": {
        "id": "eL2t25cIQTw_",
        "colab_type": "code",
        "outputId": "b24e46ae-e224-45a0-c1d1-898471497624",
        "colab": {
          "base_uri": "https://localhost:8080/",
          "height": 484,
          "referenced_widgets": [
            "02432b9db76e4b38a0dd2628aff5c67a",
            "c1e26625f7974931ae7bb0a05045fc3c",
            "746d721869cf47cf9896c16efd2634d4",
            "edb9221a1135431a8ff3e54c16e8e25b",
            "9b520bc7097545f399524af0176e0786",
            "5ad9bd33fb8e4e3c9c64684a29dc3663",
            "9d807506365d43d986fe1e0f2541ba92",
            "57469b530f3f4094806e2c0145839bcf"
          ]
        }
      },
      "source": [
        "num_epochs = 10\n",
        "encoder = Encoder(2, 3)\n",
        "decoder = Decoder(2, 3)\n",
        "model3 = VAE2(encoder, decoder)\n",
        "optim = torch.optim.Adam(model3.parameters())\n",
        "loss, val_loss = train(model3, optim, train_loader1, test_loader1, num_epochs)"
      ],
      "execution_count": 261,
      "outputs": [
        {
          "output_type": "display_data",
          "data": {
            "application/vnd.jupyter.widget-view+json": {
              "model_id": "02432b9db76e4b38a0dd2628aff5c67a",
              "version_minor": 0,
              "version_major": 2
            },
            "text/plain": [
              "HBox(children=(IntProgress(value=0, max=10), HTML(value='')))"
            ]
          },
          "metadata": {
            "tags": []
          }
        },
        {
          "output_type": "stream",
          "text": [
            "After epoch 0 train loss is 4.422556997854499 valiidation loss is 3.3633413553237914\n",
            "After epoch 1 train loss is 3.1755001424234126 valiidation loss is 3.034464085102081\n",
            "After epoch 2 train loss is 2.9576006237464614 valiidation loss is 2.918275260925293\n",
            "After epoch 3 train loss is 2.892979769767085 valiidation loss is 2.8779934883117675\n",
            "After epoch 4 train loss is 2.8578680346283734 valiidation loss is 2.8595161914825438\n",
            "After epoch 5 train loss is 2.846989411341993 valiidation loss is 2.838840365409851\n",
            "After epoch 6 train loss is 2.835634430752525 valiidation loss is 2.833953928947449\n",
            "After epoch 7 train loss is 2.8335282410247418 valiidation loss is 2.8297170758247376\n",
            "After epoch 8 train loss is 2.822371881219405 valiidation loss is 2.8389904618263246\n",
            "After epoch 9 train loss is 2.8164607361902165 valiidation loss is 2.828790748119354\n",
            "\n"
          ],
          "name": "stdout"
        },
        {
          "output_type": "display_data",
          "data": {
            "image/png": "[encoded data removed]",
            "text/plain": [
              "<Figure size 432x288 with 1 Axes>"
            ]
          },
          "metadata": {
            "tags": []
          }
        }
      ]
    },
    {
      "cell_type": "code",
      "metadata": {
        "id": "cJE_1h9pF_NY",
        "colab_type": "code",
        "outputId": "07cd4419-341e-4b5c-b687-37885541a42b",
        "colab": {
          "base_uri": "https://localhost:8080/",
          "height": 265
        }
      },
      "source": [
        "draw_losses(loss, val_loss)"
      ],
      "execution_count": 262,
      "outputs": [
        {
          "output_type": "display_data",
          "data": {
            "image/png": "[encoded data removed]",
            "text/plain": [
              "<Figure size 432x288 with 1 Axes>"
            ]
          },
          "metadata": {
            "tags": []
          }
        }
      ]
    },
    {
      "cell_type": "code",
      "metadata": {
        "id": "NmaDygE_GCfO",
        "colab_type": "code",
        "outputId": "577bbd4e-af6e-4cbd-bb14-086542866871",
        "colab": {
          "base_uri": "https://localhost:8080/",
          "height": 265
        }
      },
      "source": [
        "draw_samples(model3, data_1)"
      ],
      "execution_count": 263,
      "outputs": [
        {
          "output_type": "display_data",
          "data": {
            "image/png": "[encoded data removed]",
            "text/plain": [
              "<Figure size 432x288 with 1 Axes>"
            ]
          },
          "metadata": {
            "tags": []
          }
        }
      ]
    },
    {
      "cell_type": "markdown",
      "metadata": {
        "id": "OK1sFik3Dks-",
        "colab_type": "text"
      },
      "source": [
        "VAE 2, dataset 2\n"
      ]
    },
    {
      "cell_type": "code",
      "metadata": {
        "id": "piN5RuH8DpEI",
        "colab_type": "code",
        "outputId": "a636fa67-53b0-4582-82ed-38737687b0e7",
        "colab": {
          "base_uri": "https://localhost:8080/",
          "height": 484,
          "referenced_widgets": [
            "91bc2601ae2e4831ac52926f95c09719",
            "df0709cab6f841e39fc34b7b73d72604",
            "958e525ec2c64d7f830162d1dd986408",
            "2c5c568820014fc5824430439479ea5c",
            "71f4a995b0064f609faa9952e682b6fd",
            "6a403dca6df7480d8d984df6680d3fba",
            "fbec402c585e4e849e83e4f91727fe8e",
            "b722596fed8b4d9bb4a508657a26afdb"
          ]
        }
      },
      "source": [
        "num_epochs = 10\n",
        "encoder = Encoder(2, 3)\n",
        "decoder = Decoder(2, 3)\n",
        "model4 = VAE2(encoder, decoder)\n",
        "optim = torch.optim.Adam(model4.parameters())\n",
        "loss, val_loss = train(model4, optim, train_loader2, test_loader2, num_epochs)"
      ],
      "execution_count": 264,
      "outputs": [
        {
          "output_type": "display_data",
          "data": {
            "application/vnd.jupyter.widget-view+json": {
              "model_id": "91bc2601ae2e4831ac52926f95c09719",
              "version_minor": 0,
              "version_major": 2
            },
            "text/plain": [
              "HBox(children=(IntProgress(value=0, max=10), HTML(value='')))"
            ]
          },
          "metadata": {
            "tags": []
          }
        },
        {
          "output_type": "stream",
          "text": [
            "After epoch 0 train loss is 4.382728809042822 valiidation loss is 3.3413308024406434\n",
            "After epoch 1 train loss is 3.1929500102996826 valiidation loss is 3.0536686897277834\n",
            "After epoch 2 train loss is 2.9829996597917776 valiidation loss is 2.924612557888031\n",
            "After epoch 3 train loss is 2.903863795195954 valiidation loss is 2.878348243236542\n",
            "After epoch 4 train loss is 2.875863192956659 valiidation loss is 2.8625499606132507\n",
            "After epoch 5 train loss is 2.8613330050359798 valiidation loss is 2.8532575607299804\n",
            "After epoch 6 train loss is 2.8417825246159034 valiidation loss is 2.834855556488037\n",
            "After epoch 7 train loss is 2.8330910990509808 valiidation loss is 2.825254487991333\n",
            "After epoch 8 train loss is 2.82323728935628 valiidation loss is 2.8019924759864807\n",
            "After epoch 9 train loss is 2.812577766708181 valiidation loss is 2.8071764945983886\n",
            "\n"
          ],
          "name": "stdout"
        },
        {
          "output_type": "display_data",
          "data": {
            "image/png": "[encoded data removed]",
            "text/plain": [
              "<Figure size 432x288 with 1 Axes>"
            ]
          },
          "metadata": {
            "tags": []
          }
        }
      ]
    },
    {
      "cell_type": "code",
      "metadata": {
        "id": "RNXvmImCGILH",
        "colab_type": "code",
        "outputId": "dbdf2949-489b-4bcb-ca55-680abb6affa6",
        "colab": {
          "base_uri": "https://localhost:8080/",
          "height": 265
        }
      },
      "source": [
        "draw_losses(loss, val_loss)"
      ],
      "execution_count": 265,
      "outputs": [
        {
          "output_type": "display_data",
          "data": {
            "image/png": "[encoded data removed]",
            "text/plain": [
              "<Figure size 432x288 with 1 Axes>"
            ]
          },
          "metadata": {
            "tags": []
          }
        }
      ]
    },
    {
      "cell_type": "code",
      "metadata": {
        "id": "Jm1Al8iwGJAT",
        "colab_type": "code",
        "outputId": "0101ceda-2540-4a0c-bcc0-c5bb2f289264",
        "colab": {
          "base_uri": "https://localhost:8080/",
          "height": 265
        }
      },
      "source": [
        "draw_samples(model4, data_2)"
      ],
      "execution_count": 266,
      "outputs": [
        {
          "output_type": "display_data",
          "data": {
            "image/png": "[encoded data removed]",
            "text/plain": [
              "<Figure size 432x288 with 1 Axes>"
            ]
          },
          "metadata": {
            "tags": []
          }
        }
      ]
    },
    {
      "cell_type": "markdown",
      "metadata": {
        "id": "dZVlMnIQIi2-",
        "colab_type": "text"
      },
      "source": [
        "**Part B**"
      ]
    },
    {
      "cell_type": "code",
      "metadata": {
        "id": "MmboujvEGU_8",
        "colab_type": "code",
        "outputId": "fb06eed6-af3f-4767-dd3a-80b4293b82dd",
        "colab": {
          "base_uri": "https://localhost:8080/",
          "height": 265
        }
      },
      "source": [
        "import numpy as np\n",
        "def sample_data_3():\n",
        "    count = 100000\n",
        "    rand = np.random.RandomState(0)\n",
        "    a = [[-1.5, 2.5]] + rand.randn(count // 3, 2) * 0.2\n",
        "    b = [[1.5, 2.5]] + rand.randn(count // 3, 2) * 0.2\n",
        "    c = np.c_[2 * np.cos(np.linspace(0, np.pi, count // 3)),\n",
        "    -np.sin(np.linspace(0, np.pi, count // 3))]\n",
        "\n",
        "    c += rand.randn(*c.shape) * 0.2\n",
        "    data_x = np.concatenate([a, b, c], axis=0)\n",
        "    data_y = np.array([0] * len(a) + [1] * len(b) + [2] * len(c))\n",
        "    perm = rand.permutation(len(data_x))\n",
        "    return data_x[perm], data_y[perm]\n",
        "\n",
        "data_3, labels = sample_data_3()\n",
        "plt.scatter(data_3[:, 0], data_3[:, 1]);\n",
        "\n",
        "train_3, test_3 = train_test_split(data_3, train_size=0.8)\n",
        "train_loader3 = torch.utils.data.DataLoader(train_3, batch_size=batch_size, shuffle=True)\n",
        "test_loader3 = torch.utils.data.DataLoader(test_3, batch_size=batch_size, shuffle=False) "
      ],
      "execution_count": 267,
      "outputs": [
        {
          "output_type": "display_data",
          "data": {
            "image/png": "[encoded data removed]",
            "text/plain": [
              "<Figure size 432x288 with 1 Axes>"
            ]
          },
          "metadata": {
            "tags": []
          }
        }
      ]
    },
    {
      "cell_type": "code",
      "metadata": {
        "id": "9hR2NrVYIs0n",
        "colab_type": "code",
        "outputId": "62b422d4-00e8-4660-b574-ecfa5d725b23",
        "colab": {
          "base_uri": "https://localhost:8080/",
          "height": 484,
          "referenced_widgets": [
            "eabf82bc114a4dffab552684951b8540",
            "d7291e7ae73e4473b19341956d2e6f3a",
            "8a4fe94357db4279a4d05b0f31ad7708",
            "6589edf6dfbb4c34b503455b45891fb4",
            "30739729f64a44b39f89f81b0933cdb0",
            "02438bceddf54ac796985171a8232ba1",
            "627b57f14fb04f2cbe1828ca9c937f01",
            "73d8ef76fc1e49bba1a67454128db5d9"
          ]
        }
      },
      "source": [
        "num_epochs = 10\n",
        "encoder = Encoder(2, 4)\n",
        "decoder = Decoder(2, 4)\n",
        "model5 = VAE(encoder, decoder)\n",
        "optim = torch.optim.Adam(model5.parameters())\n",
        "loss, val_loss = train(model5, optim, train_loader3, test_loader3, num_epochs)"
      ],
      "execution_count": 268,
      "outputs": [
        {
          "output_type": "display_data",
          "data": {
            "application/vnd.jupyter.widget-view+json": {
              "model_id": "eabf82bc114a4dffab552684951b8540",
              "version_minor": 0,
              "version_major": 2
            },
            "text/plain": [
              "HBox(children=(IntProgress(value=0, max=10), HTML(value='')))"
            ]
          },
          "metadata": {
            "tags": []
          }
        },
        {
          "output_type": "stream",
          "text": [
            "After epoch 0 train loss is 2.3557258557669725 valiidation loss is 2.182956337928772\n",
            "After epoch 1 train loss is 2.143794340423391 valiidation loss is 2.056270694732666\n",
            "After epoch 2 train loss is 1.92774857599524 valiidation loss is 1.8353174030780792\n",
            "After epoch 3 train loss is 1.7866225242614746 valiidation loss is 1.7308533251285554\n",
            "After epoch 4 train loss is 1.6813031510461736 valiidation loss is 1.6468807578086853\n",
            "After epoch 5 train loss is 1.6037731261192998 valiidation loss is 1.581304657459259\n",
            "After epoch 6 train loss is 1.5389461864399006 valiidation loss is 1.511964613199234\n",
            "After epoch 7 train loss is 1.492660204066506 valiidation loss is 1.486493980884552\n",
            "After epoch 8 train loss is 1.4750362544120112 valiidation loss is 1.4743286967277527\n",
            "After epoch 9 train loss is 1.4571477808529818 valiidation loss is 1.463468313217163\n",
            "\n"
          ],
          "name": "stdout"
        },
        {
          "output_type": "display_data",
          "data": {
            "image/png": "[encoded data removed]",
            "text/plain": [
              "<Figure size 432x288 with 1 Axes>"
            ]
          },
          "metadata": {
            "tags": []
          }
        }
      ]
    },
    {
      "cell_type": "code",
      "metadata": {
        "id": "zl3WqEwOJmZc",
        "colab_type": "code",
        "outputId": "86966a62-3f36-44d8-ee9a-ea0428e8cbf0",
        "colab": {
          "base_uri": "https://localhost:8080/",
          "height": 282
        }
      },
      "source": [
        "draw_samples(model5)"
      ],
      "execution_count": 269,
      "outputs": [
        {
          "output_type": "stream",
          "text": [
            "torch.Size([1000, 2]) torch.Size([1000, 2])\n"
          ],
          "name": "stdout"
        },
        {
          "output_type": "display_data",
          "data": {
            "image/png": "[encoded data removed]",
            "text/plain": [
              "<Figure size 432x288 with 1 Axes>"
            ]
          },
          "metadata": {
            "tags": []
          }
        }
      ]
    },
    {
      "cell_type": "code",
      "metadata": {
        "id": "AecJiDuWKzHw",
        "colab_type": "code",
        "outputId": "8fae310a-b667-4396-ee73-08211660b3db",
        "colab": {
          "base_uri": "https://localhost:8080/",
          "height": 265
        }
      },
      "source": [
        "def sample_from_latent(model, n=7000):\n",
        "    latent, _, _ = model.to_latent(torch.from_numpy(data_3[:n]))\n",
        "    latent = latent.detach().numpy()\n",
        "    plt.scatter(latent[:, 0], latent[:, 1], c=np.array(['red', 'yellow', 'green'])[labels[:n]])\n",
        "\n",
        "sample_from_latent(model5)  "
      ],
      "execution_count": 270,
      "outputs": [
        {
          "output_type": "display_data",
          "data": {
            "image/png": "[encoded data removed]",
            "text/plain": [
              "<Figure size 432x288 with 1 Axes>"
            ]
          },
          "metadata": {
            "tags": []
          }
        }
      ]
    },
    {
      "cell_type": "markdown",
      "metadata": {
        "id": "XlS1IjISdR7R",
        "colab_type": "text"
      },
      "source": [
        "VAE2"
      ]
    },
    {
      "cell_type": "code",
      "metadata": {
        "id": "_Lh46X8jXMKB",
        "colab_type": "code",
        "outputId": "98460345-25df-4e35-e70e-dd715753c7ef",
        "colab": {
          "base_uri": "https://localhost:8080/",
          "height": 484,
          "referenced_widgets": [
            "c6d00bbbba484252bf1eb56b9e608070",
            "457d11ee2744487b9ec28b8983d9e0f5",
            "23985f87152249a3835d66099073c846",
            "866a6ce35a864c64ac8121f8c9724bbf",
            "36e366401cab40ef8f4b7de7ea419fc5",
            "0a4c08157dd240deae43f6552799be6c",
            "4a8d24769ed14530aced74fefbd9dbb8",
            "7224dd54bee54d81a545b94367607814"
          ]
        }
      },
      "source": [
        "num_epochs = 10\n",
        "encoder = Encoder(2, 3)\n",
        "decoder = Decoder(2, 3)\n",
        "model6 = VAE2(encoder, decoder)\n",
        "optim = torch.optim.Adam(model6.parameters())\n",
        "loss, val_loss = train(model6, optim, train_loader3, test_loader3, num_epochs)"
      ],
      "execution_count": 271,
      "outputs": [
        {
          "output_type": "display_data",
          "data": {
            "application/vnd.jupyter.widget-view+json": {
              "model_id": "c6d00bbbba484252bf1eb56b9e608070",
              "version_minor": 0,
              "version_major": 2
            },
            "text/plain": [
              "HBox(children=(IntProgress(value=0, max=10), HTML(value='')))"
            ]
          },
          "metadata": {
            "tags": []
          }
        },
        {
          "output_type": "stream",
          "text": [
            "After epoch 0 train loss is 2.4542552700525597 valiidation loss is 2.2007280588150024\n",
            "After epoch 1 train loss is 2.186829029759274 valiidation loss is 2.175649905204773\n",
            "After epoch 2 train loss is 2.171742224995094 valiidation loss is 2.167787158489227\n",
            "After epoch 3 train loss is 2.164306879043579 valiidation loss is 2.1566402077674867\n",
            "After epoch 4 train loss is 2.125877507125275 valiidation loss is 2.0534282088279725\n",
            "After epoch 5 train loss is 1.8986822517612312 valiidation loss is 1.7667273223400115\n",
            "After epoch 6 train loss is 1.7088827875596058 valiidation loss is 1.6536435186862946\n",
            "After epoch 7 train loss is 1.623046550569655 valiidation loss is 1.6140413343906403\n",
            "After epoch 8 train loss is 1.578185421002062 valiidation loss is 1.563408762216568\n",
            "After epoch 9 train loss is 1.5549031360239922 valiidation loss is 1.5455862760543824\n",
            "\n"
          ],
          "name": "stdout"
        },
        {
          "output_type": "display_data",
          "data": {
            "image/png": "[encoded data removed]",
            "text/plain": [
              "<Figure size 432x288 with 1 Axes>"
            ]
          },
          "metadata": {
            "tags": []
          }
        }
      ]
    },
    {
      "cell_type": "code",
      "metadata": {
        "id": "HhiVkmlkYR1B",
        "colab_type": "code",
        "outputId": "ca0b2bb9-98a6-4d8e-a695-e84ff5bcb34a",
        "colab": {
          "base_uri": "https://localhost:8080/",
          "height": 265
        }
      },
      "source": [
        "draw_samples(model6)"
      ],
      "execution_count": 272,
      "outputs": [
        {
          "output_type": "display_data",
          "data": {
            "image/png": "[encoded data removed]",
            "text/plain": [
              "<Figure size 432x288 with 1 Axes>"
            ]
          },
          "metadata": {
            "tags": []
          }
        }
      ]
    },
    {
      "cell_type": "code",
      "metadata": {
        "id": "iLp6wFQNddIC",
        "colab_type": "code",
        "outputId": "ad661918-e4a7-4771-abe1-27b40613ca9e",
        "colab": {
          "base_uri": "https://localhost:8080/",
          "height": 265
        }
      },
      "source": [
        "sample_from_latent(model6)  "
      ],
      "execution_count": 273,
      "outputs": [
        {
          "output_type": "display_data",
          "data": {
            "image/png": "[encoded data removed]",
            "text/plain": [
              "<Figure size 432x288 with 1 Axes>"
            ]
          },
          "metadata": {
            "tags": []
          }
        }
      ]
    },
    {
      "cell_type": "code",
      "metadata": {
        "id": "hi_qGYpgdguV",
        "colab_type": "code",
        "colab": {}
      },
      "source": [
        "def p(x, mu=torch.tensor([0.]), sigma=torch.tensor([1.])):\n",
        "    prob = torch.exp(-0.5 * (x - mu) ** 2 / sigma) / torch.sqrt(2 * np.pi * sigma)\n",
        "    return prob.prod(dim=1)\n",
        "\n",
        "def get_iwae(model, x):\n",
        "    n = x.shape[0]\n",
        "    z, mu_z, sigma_z = model.to_latent(x)\n",
        "    \n",
        "    decoded = model.decoder(z)\n",
        "    mu_xz, sigma_xz = torch.chunk(decoded, 2, dim=1)\n",
        "\n",
        "    res = p(x, mu_xz, sigma_xz.exp()) * p(z) / p(z, mu_z, sigma_z.exp())\n",
        "    return res.mean().log()"
      ],
      "execution_count": 0,
      "outputs": []
    },
    {
      "cell_type": "code",
      "metadata": {
        "id": "0G34qsFa57jO",
        "colab_type": "code",
        "colab": {
          "base_uri": "https://localhost:8080/",
          "height": 51
        },
        "outputId": "7efeb556-da18-4c89-ac97-a1d017dd2f3d"
      },
      "source": [
        "iwae100 = get_iwae(model5, torch.tensor(data_3[:100])).item()\n",
        "iwae1 = get_iwae(model5, torch.tensor(data_3[:1])).item()\n",
        "\n",
        "print(f\"IWAE for 100 {iwae100}\")\n",
        "print(f'IWAE for 1 {iwae1}')"
      ],
      "execution_count": 275,
      "outputs": [
        {
          "output_type": "stream",
          "text": [
            "IWAE for 100 -1.902762303518776\n",
            "IWAE for 1 -2.6443417266646203\n"
          ],
          "name": "stdout"
        }
      ]
    },
    {
      "cell_type": "code",
      "metadata": {
        "id": "2K4WOZy55_kD",
        "colab_type": "code",
        "colab": {}
      },
      "source": [
        ""
      ],
      "execution_count": 0,
      "outputs": []
    }
  ]
}